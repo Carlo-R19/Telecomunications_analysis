{
  "cells": [
    {
      "cell_type": "markdown",
      "id": "74a600e0-c818-4055-bb4b-c00302a7edeb",
      "metadata": {},
      "source": [
        "# PROYECTO SRPINT 5 "
      ]
    },
    {
      "cell_type": "markdown",
      "id": "f74ae8dd-5f6d-4f21-a5e7-0c31447f5040",
      "metadata": {},
      "source": [
        "# ¿Cuál es la mejor tarifa?\n",
        "\n",
        "Trabajas como analista para el operador de telecomunicaciones Megaline. La empresa ofrece a sus clientes dos tarifas de prepago, Surf y Ultimate. El departamento comercial quiere saber cuál de las tarifas genera más ingresos para poder ajustar el presupuesto de publicidad.\n",
        "\n",
        "Vas a realizar un análisis preliminar de las tarifas basado en una selección de clientes relativamente pequeña. Tendrás los datos de 500 clientes de Megaline: quiénes son los clientes, de dónde son, qué tarifa usan, así como la cantidad de llamadas que hicieron y los mensajes de texto que enviaron en 2018. Tu trabajo es analizar el comportamiento de los clientes y determinar qué tarifa de prepago genera más ingresos."
      ]
    },
    {
      "cell_type": "markdown",
      "id": "442f537c-531e-4405-aeb0-9e1cb54a6585",
      "metadata": {},
      "source": [
        "[Te proporcionamos algunos comentarios para orientarte mientras completas este proyecto. Pero debes asegurarte de eliminar todos los comentarios entre corchetes antes de entregar tu proyecto.]\n",
        "\n",
        "[Antes de sumergirte en el análisis de datos, explica por tu propia cuenta el propósito del proyecto y las acciones que planeas realizar.]\n",
        "\n",
        "[Ten en cuenta que estudiar, modificar y analizar datos es un proceso iterativo. Es normal volver a los pasos anteriores y corregirlos/ampliarlos para permitir nuevos pasos.]"
      ]
    },
    {
      "cell_type": "markdown",
      "id": "bd711b57-6a99-4c41-a538-08b1215680d1",
      "metadata": {},
      "source": [
        "## Inicialización"
      ]
    },
    {
      "cell_type": "code",
      "execution_count": 1,
      "id": "d95cb6d8-55d0-43ac-a324-41d5f97f8d2b",
      "metadata": {
        "trusted": true
      },
      "outputs": [
        {
          "name": "stdout",
          "output_type": "stream",
          "text": [
            "Requirement already satisfied: seaborn in c:\\users\\carlo\\anaconda3\\lib\\site-packages (0.13.2)\n",
            "Requirement already satisfied: numpy!=1.24.0,>=1.20 in c:\\users\\carlo\\anaconda3\\lib\\site-packages (from seaborn) (2.1.3)\n",
            "Requirement already satisfied: pandas>=1.2 in c:\\users\\carlo\\anaconda3\\lib\\site-packages (from seaborn) (2.2.3)\n",
            "Requirement already satisfied: matplotlib!=3.6.1,>=3.4 in c:\\users\\carlo\\anaconda3\\lib\\site-packages (from seaborn) (3.10.0)\n",
            "Requirement already satisfied: contourpy>=1.0.1 in c:\\users\\carlo\\anaconda3\\lib\\site-packages (from matplotlib!=3.6.1,>=3.4->seaborn) (1.3.1)\n",
            "Requirement already satisfied: cycler>=0.10 in c:\\users\\carlo\\anaconda3\\lib\\site-packages (from matplotlib!=3.6.1,>=3.4->seaborn) (0.11.0)\n",
            "Requirement already satisfied: fonttools>=4.22.0 in c:\\users\\carlo\\anaconda3\\lib\\site-packages (from matplotlib!=3.6.1,>=3.4->seaborn) (4.55.3)\n",
            "Requirement already satisfied: kiwisolver>=1.3.1 in c:\\users\\carlo\\anaconda3\\lib\\site-packages (from matplotlib!=3.6.1,>=3.4->seaborn) (1.4.8)\n",
            "Requirement already satisfied: packaging>=20.0 in c:\\users\\carlo\\anaconda3\\lib\\site-packages (from matplotlib!=3.6.1,>=3.4->seaborn) (24.2)\n",
            "Requirement already satisfied: pillow>=8 in c:\\users\\carlo\\anaconda3\\lib\\site-packages (from matplotlib!=3.6.1,>=3.4->seaborn) (11.1.0)\n",
            "Requirement already satisfied: pyparsing>=2.3.1 in c:\\users\\carlo\\anaconda3\\lib\\site-packages (from matplotlib!=3.6.1,>=3.4->seaborn) (3.2.0)\n",
            "Requirement already satisfied: python-dateutil>=2.7 in c:\\users\\carlo\\appdata\\roaming\\python\\python313\\site-packages (from matplotlib!=3.6.1,>=3.4->seaborn) (2.9.0.post0)\n",
            "Requirement already satisfied: pytz>=2020.1 in c:\\users\\carlo\\anaconda3\\lib\\site-packages (from pandas>=1.2->seaborn) (2024.1)\n",
            "Requirement already satisfied: tzdata>=2022.7 in c:\\users\\carlo\\anaconda3\\lib\\site-packages (from pandas>=1.2->seaborn) (2025.2)\n",
            "Requirement already satisfied: six>=1.5 in c:\\users\\carlo\\appdata\\roaming\\python\\python313\\site-packages (from python-dateutil>=2.7->matplotlib!=3.6.1,>=3.4->seaborn) (1.17.0)\n",
            "Note: you may need to restart the kernel to use updated packages.\n"
          ]
        }
      ],
      "source": [
        "%pip install seaborn"
      ]
    },
    {
      "cell_type": "code",
      "execution_count": 2,
      "id": "da8168ed-9854-4a01-b1dd-39db63a86061",
      "metadata": {
        "trusted": true
      },
      "outputs": [],
      "source": [
        "# Cargar todas las librerías \n",
        "\n",
        "import pandas as pd\n",
        "import numpy as np\n",
        "import math\n",
        "import seaborn as sns \n",
        "from math import factorial\n",
        "from scipy import stats as st\n",
        "from matplotlib import pyplot as plt"
      ]
    },
    {
      "cell_type": "markdown",
      "id": "47eda52e-31b4-4eee-b292-82c19732681f",
      "metadata": {},
      "source": [
        "## Cargar datos "
      ]
    },
    {
      "cell_type": "code",
      "execution_count": 3,
      "id": "62aab75c-ca6e-49a7-bf15-c1f16cf56edb",
      "metadata": {
        "trusted": true
      },
      "outputs": [],
      "source": [
        "# Carga los archivos de datos en diferentes DataFrames\n",
        "\n",
        "df_users = pd.read_csv('megaline_users.csv')\n",
        "\n",
        "df_calls = pd.read_csv('megaline_calls.csv')\n",
        "\n",
        "df_internet = pd.read_csv('megaline_internet.csv')\n",
        "\n",
        "df_messages = pd.read_csv('megaline_messages.csv')\n",
        "\n",
        "df_plans = pd.read_csv('megaline_plans.csv')"
      ]
    },
    {
      "cell_type": "markdown",
      "id": "42fc7d53-bc4b-4c21-8ed7-ae54ea6ee0d8",
      "metadata": {},
      "source": [
        "## Preparar los datos"
      ]
    },
    {
      "cell_type": "markdown",
      "id": "9db669e5-4816-4009-922e-c4827afbb438",
      "metadata": {},
      "source": [
        "[Los datos para este proyecto se dividen en varias tablas. Explora cada una para tener una comprensión inicial de los datos. Si es necesario, haz las correcciones requeridas en cada tabla.]"
      ]
    },
    {
      "cell_type": "markdown",
      "id": "9636c347-19e1-4ea6-a9b2-c6e454db2ce3",
      "metadata": {},
      "source": [
        "## Tarifas"
      ]
    },
    {
      "cell_type": "code",
      "execution_count": 4,
      "id": "76720d9a-ffe0-4c28-958c-85b13ad09bd4",
      "metadata": {
        "trusted": true
      },
      "outputs": [
        {
          "name": "stdout",
          "output_type": "stream",
          "text": [
            "<class 'pandas.core.frame.DataFrame'>\n",
            "RangeIndex: 2 entries, 0 to 1\n",
            "Data columns (total 8 columns):\n",
            " #   Column                 Non-Null Count  Dtype  \n",
            "---  ------                 --------------  -----  \n",
            " 0   messages_included      2 non-null      int64  \n",
            " 1   mb_per_month_included  2 non-null      int64  \n",
            " 2   minutes_included       2 non-null      int64  \n",
            " 3   usd_monthly_pay        2 non-null      int64  \n",
            " 4   usd_per_gb             2 non-null      int64  \n",
            " 5   usd_per_message        2 non-null      float64\n",
            " 6   usd_per_minute         2 non-null      float64\n",
            " 7   plan_name              2 non-null      object \n",
            "dtypes: float64(2), int64(5), object(1)\n",
            "memory usage: 260.0+ bytes\n"
          ]
        }
      ],
      "source": [
        "# Imprime la información general/resumida sobre el DataFrame de las tarifas\n",
        "\n",
        "df_plans.info()"
      ]
    },
    {
      "cell_type": "code",
      "execution_count": 5,
      "id": "f066c7fc-61cd-45e5-92ee-00b719725cfa",
      "metadata": {
        "trusted": true
      },
      "outputs": [
        {
          "name": "stdout",
          "output_type": "stream",
          "text": [
            "   messages_included  mb_per_month_included  minutes_included  \\\n",
            "0                 50                  15360               500   \n",
            "1               1000                  30720              3000   \n",
            "\n",
            "   usd_monthly_pay  usd_per_gb  usd_per_message  usd_per_minute plan_name  \n",
            "0               20          10             0.03            0.03      surf  \n",
            "1               70           7             0.01            0.01  ultimate  \n"
          ]
        }
      ],
      "source": [
        "# Imprime una muestra de los datos para las tarifas\n",
        "\n",
        "print(df_plans.head())"
      ]
    },
    {
      "cell_type": "markdown",
      "id": "c8e0281c-f7c7-4da4-bf49-aedd7830daac",
      "metadata": {},
      "source": [
        "[Describe lo que ves y observas en la información general y en la muestra de datos impresa para el precio de datos anterior. ¿Hay algún problema (tipos de datos no adecuados, datos ausentes, etc.) que pudieran necesitar investigación y cambios adicionales? ¿Cómo se puede arreglar?]\n",
        "\n",
        "Es un dataset de varias columnas solo 2 entradas sin valores ausentes. Es de caracter informativo y nos podría servir para hacer los cálculos pertinentes para cada usuario. No se propone ningún cambio ya que no contiene duplicados, valores ausentes y la información está completa. Si se quiere homologar los megabytes (mb) habría que hacer el cambio también en otro dataset y por fines prácticos, se dejará 'mb_per_month_included' intacto. "
      ]
    },
    {
      "cell_type": "markdown",
      "id": "263a4402-2afc-49b0-8116-bde35d3c3c5d",
      "metadata": {},
      "source": [
        "## Corregir datos"
      ]
    },
    {
      "cell_type": "markdown",
      "id": "7e1091cb-186f-4185-ac1f-16f78891ce6e",
      "metadata": {},
      "source": [
        "Se busca por duplicados y valores nulos"
      ]
    },
    {
      "cell_type": "code",
      "execution_count": 6,
      "id": "6573cbd7-aa34-407f-bd34-b0a8bd27e0a0",
      "metadata": {
        "trusted": true
      },
      "outputs": [
        {
          "name": "stdout",
          "output_type": "stream",
          "text": [
            "Hay: 0  valores duplicados\n"
          ]
        }
      ],
      "source": [
        "# Buscamos valores duplicados \n",
        "\n",
        "print('Hay:', df_plans.duplicated().sum(),' valores duplicados')"
      ]
    },
    {
      "cell_type": "code",
      "execution_count": 7,
      "id": "ecb0da29-ebd6-4645-90d3-fe3fe149257b",
      "metadata": {
        "trusted": true
      },
      "outputs": [
        {
          "name": "stdout",
          "output_type": "stream",
          "text": [
            "Valores nulos en el dataframe de llamadas: \n",
            " id           0\n",
            "user_id      0\n",
            "call_date    0\n",
            "duration     0\n",
            "dtype: int64\n"
          ]
        }
      ],
      "source": [
        "# Buscamos valores nulos\n",
        "\n",
        "print('Valores nulos en el dataframe de llamadas:','\\n',df_calls.isna().sum())"
      ]
    },
    {
      "cell_type": "markdown",
      "id": "03da3ac2-3c9a-43c0-8ecd-8c981e619b69",
      "metadata": {},
      "source": [
        "## Enriquecer los datos"
      ]
    },
    {
      "cell_type": "markdown",
      "id": "e51a5974-a8b6-4a76-8420-0fdff4a11418",
      "metadata": {},
      "source": [
        "**NO SE SUGIERE ENRIQUECER**"
      ]
    },
    {
      "cell_type": "markdown",
      "id": "743a8b35-41f4-416f-bb1c-d5ebfd001794",
      "metadata": {},
      "source": [
        "## Usuarios/as"
      ]
    },
    {
      "cell_type": "code",
      "execution_count": 8,
      "id": "d260c5cf-c2b6-4ebb-b1ef-245c62eeeb6e",
      "metadata": {
        "trusted": true
      },
      "outputs": [
        {
          "name": "stdout",
          "output_type": "stream",
          "text": [
            "<class 'pandas.core.frame.DataFrame'>\n",
            "RangeIndex: 500 entries, 0 to 499\n",
            "Data columns (total 8 columns):\n",
            " #   Column      Non-Null Count  Dtype \n",
            "---  ------      --------------  ----- \n",
            " 0   user_id     500 non-null    int64 \n",
            " 1   first_name  500 non-null    object\n",
            " 2   last_name   500 non-null    object\n",
            " 3   age         500 non-null    int64 \n",
            " 4   city        500 non-null    object\n",
            " 5   reg_date    500 non-null    object\n",
            " 6   plan        500 non-null    object\n",
            " 7   churn_date  34 non-null     object\n",
            "dtypes: int64(2), object(6)\n",
            "memory usage: 31.4+ KB\n"
          ]
        }
      ],
      "source": [
        "# Imprime la información general/resumida sobre el DataFrame de usuarios\n",
        "\n",
        "df_users.info()"
      ]
    },
    {
      "cell_type": "code",
      "execution_count": 9,
      "id": "cbd6d65f-5e60-4b26-9fc5-807a7dd34d56",
      "metadata": {
        "trusted": true
      },
      "outputs": [
        {
          "name": "stdout",
          "output_type": "stream",
          "text": [
            "     user_id first_name  last_name  age  \\\n",
            "0       1000   Anamaria      Bauer   45   \n",
            "158     1158      Robin   Thornton   20   \n",
            "413     1413      Andre    Hensley   38   \n",
            "405     1405     Shella     Hunter   34   \n",
            "249     1249      Kelly    Goodman   41   \n",
            "268     1268     Britni     Bowers   33   \n",
            "33      1033    Latoyia      Moran   28   \n",
            "128     1128     Lucius  Fernandez   41   \n",
            "460     1460    Winford  Underwood   46   \n",
            "353     1353    Emerson  Whitfield   56   \n",
            "\n",
            "                                               city    reg_date      plan  \\\n",
            "0             Atlanta-Sandy Springs-Roswell, GA MSA  2018-12-24  ultimate   \n",
            "158  Virginia Beach-Norfolk-Newport News, VA-NC MSA  2018-11-30  ultimate   \n",
            "413                             Bakersfield, CA MSA  2018-07-12      surf   \n",
            "405            Indianapolis-Carmel-Anderson, IN MSA  2018-06-22  ultimate   \n",
            "249                        Cincinnati, OH-KY-IN MSA  2018-05-14  ultimate   \n",
            "268                                  Fresno, CA MSA  2018-01-13      surf   \n",
            "33                            Oklahoma City, OK MSA  2018-05-30  ultimate   \n",
            "128                               Knoxville, TN MSA  2018-01-25  ultimate   \n",
            "460                                  Fresno, CA MSA  2018-05-28  ultimate   \n",
            "353           North Port-Sarasota-Bradenton, FL MSA  2018-03-27      surf   \n",
            "\n",
            "    churn_date  \n",
            "0          NaN  \n",
            "158        NaN  \n",
            "413        NaN  \n",
            "405        NaN  \n",
            "249        NaN  \n",
            "268        NaN  \n",
            "33         NaN  \n",
            "128        NaN  \n",
            "460        NaN  \n",
            "353        NaN  \n"
          ]
        }
      ],
      "source": [
        "# Imprime una muestra de datos para usuarios\n",
        "\n",
        "print(df_users.sample(10))"
      ]
    },
    {
      "cell_type": "markdown",
      "id": "76ad29bb-23d4-4ba0-897b-8ae26ac59ad3",
      "metadata": {},
      "source": [
        "[Describe lo que ves y observas en la información general y en la muestra de datos impresa para el precio de datos anterior. ¿Hay algún problema (tipos de datos no adecuados, datos ausentes, etc.) que pudieran necesitar investigación y cambios adicionales? ¿Cómo se puede arreglar?]\n",
        "\n",
        "Un dataset de varias columnas con información sobre los usuarios. Son 500 entradas, con datos enteros y objetos. La primera observación con los datos sería el formato de las fechas (se toman como objetos) que para fines útiles los convertiremos a tipo 'datetime'. También crearemos dos columnas para el dataset, una que muestre si el usuario sigue activo y otra columna que muestre estado donde se ubica(n) la(s) ciudad(es). Igualmente, buscaremos por valores duplicados. Se pueden arreglar estos cambios con las opciones to_datetime, .duplicated().sum(), .isna() y .str.split()."
      ]
    },
    {
      "cell_type": "markdown",
      "id": "6b191986-1ae1-4084-aa08-20df6e8134fc",
      "metadata": {},
      "source": [
        "### Corregir los datos"
      ]
    },
    {
      "cell_type": "markdown",
      "id": "adc4565a-ac96-40c2-b44b-06a985f32a68",
      "metadata": {},
      "source": [
        "[Corrige los problemas obvios con los datos basándote en las observaciones iniciales.]"
      ]
    },
    {
      "cell_type": "code",
      "execution_count": 10,
      "id": "851b6fea-89cb-4ceb-b0e0-b6f73de4ef6d",
      "metadata": {
        "trusted": true
      },
      "outputs": [
        {
          "name": "stdout",
          "output_type": "stream",
          "text": [
            "Hay: 0  valores duplicados\n",
            "Hay: 0  user_id duplicados\n"
          ]
        }
      ],
      "source": [
        "# Buscamos valores duplicados \n",
        "\n",
        "print('Hay:', df_users.duplicated().sum(),' valores duplicados')\n",
        "print('Hay:', df_users['user_id'].duplicated().sum(),' user_id duplicados')"
      ]
    },
    {
      "cell_type": "code",
      "execution_count": 11,
      "id": "4d89899c-2dd0-4d11-83a3-6b13fda18272",
      "metadata": {
        "trusted": true
      },
      "outputs": [
        {
          "name": "stdout",
          "output_type": "stream",
          "text": [
            "<class 'pandas.core.frame.DataFrame'>\n",
            "RangeIndex: 500 entries, 0 to 499\n",
            "Data columns (total 8 columns):\n",
            " #   Column      Non-Null Count  Dtype         \n",
            "---  ------      --------------  -----         \n",
            " 0   user_id     500 non-null    int64         \n",
            " 1   first_name  500 non-null    object        \n",
            " 2   last_name   500 non-null    object        \n",
            " 3   age         500 non-null    int64         \n",
            " 4   city        500 non-null    object        \n",
            " 5   reg_date    500 non-null    datetime64[ns]\n",
            " 6   plan        500 non-null    object        \n",
            " 7   churn_date  34 non-null     object        \n",
            "dtypes: datetime64[ns](1), int64(2), object(5)\n",
            "memory usage: 31.4+ KB\n"
          ]
        }
      ],
      "source": [
        "df_users['reg_date'] = pd.to_datetime(df_users['reg_date'], format = '%Y-%m-%d')\n",
        "\n",
        "df_users.info()"
      ]
    },
    {
      "cell_type": "markdown",
      "id": "1dc4cfa8-3549-4355-9ebd-6bafeb1c3166",
      "metadata": {},
      "source": [
        "### Enriquecer los datos"
      ]
    },
    {
      "cell_type": "markdown",
      "id": "e173d95b-8e8c-401b-8661-6a3637686888",
      "metadata": {},
      "source": [
        "[Agrega factores adicionales a los datos si crees que pudieran ser útiles.]"
      ]
    },
    {
      "cell_type": "markdown",
      "id": "3edd7a84-c99e-4b5e-80a7-d649fea0728c",
      "metadata": {},
      "source": [
        "Mantenemos los valores nulos de la columna 'churn_date' ya que nos muestran los usuarios activos. En cambio, añadimos una columna que muestre valores booleanos acerca si el usuario sigue contratando el servicio o no. "
      ]
    },
    {
      "cell_type": "code",
      "execution_count": 12,
      "id": "0cecf358-c282-4cd9-9b39-8da04eb49b13",
      "metadata": {
        "trusted": true
      },
      "outputs": [
        {
          "name": "stdout",
          "output_type": "stream",
          "text": [
            "   user_id first_name  last_name  age                                    city  \\\n",
            "0     1000   Anamaria      Bauer   45   Atlanta-Sandy Springs-Roswell, GA MSA   \n",
            "1     1001     Mickey  Wilkerson   28         Seattle-Tacoma-Bellevue, WA MSA   \n",
            "2     1002     Carlee    Hoffman   36    Las Vegas-Henderson-Paradise, NV MSA   \n",
            "3     1003   Reynaldo    Jenkins   52                           Tulsa, OK MSA   \n",
            "4     1004    Leonila   Thompson   40         Seattle-Tacoma-Bellevue, WA MSA   \n",
            "5     1005      Livia    Shields   31     Dallas-Fort Worth-Arlington, TX MSA   \n",
            "6     1006     Jesusa   Bradford   73  San Francisco-Oakland-Berkeley, CA MSA   \n",
            "7     1007    Eusebio      Welch   42           Grand Rapids-Kentwood, MI MSA   \n",
            "8     1008      Emely    Hoffman   53       Orlando-Kissimmee-Sanford, FL MSA   \n",
            "9     1009      Gerry     Little   19  San Jose-Sunnyvale-Santa Clara, CA MSA   \n",
            "\n",
            "    reg_date      plan  churn_date  active  \n",
            "0 2018-12-24  ultimate         NaN    True  \n",
            "1 2018-08-13      surf         NaN    True  \n",
            "2 2018-10-21      surf         NaN    True  \n",
            "3 2018-01-28      surf         NaN    True  \n",
            "4 2018-05-23      surf         NaN    True  \n",
            "5 2018-11-29      surf         NaN    True  \n",
            "6 2018-11-27  ultimate  2018-12-18   False  \n",
            "7 2018-07-11      surf         NaN    True  \n",
            "8 2018-08-03  ultimate         NaN    True  \n",
            "9 2018-04-22      surf         NaN    True  \n"
          ]
        }
      ],
      "source": [
        "# Añadimos la columna 'active'\n",
        "\n",
        "df_users['active'] = df_users['churn_date'].isna()\n",
        "\n",
        "print(df_users.head(10))"
      ]
    },
    {
      "cell_type": "markdown",
      "id": "d1c287f9-e0e4-464f-b92a-b416265e0ce4",
      "metadata": {},
      "source": [
        "Separamos los datos de 'city' ya que esta columna contiene la ciudad y el(los) estado(s) donde se ubica la ciudad. Podría ser de utilidad para separar diferentes ciudades presentes en un mismo(s) estado. "
      ]
    },
    {
      "cell_type": "code",
      "execution_count": 13,
      "id": "ce92de2b-93cd-4e36-be32-4522bb4871db",
      "metadata": {
        "trusted": true
      },
      "outputs": [
        {
          "name": "stdout",
          "output_type": "stream",
          "text": [
            "     user_id first_name last_name  age                                 city  \\\n",
            "347     1347       Trey     Lynch   65  Charleston-North Charleston, SC MSA   \n",
            "23      1023       Jack   Delaney   70      Omaha-Council Bluffs, NE-IA MSA   \n",
            "316     1316    Lucilla     Weeks   59                        Tulsa, OK MSA   \n",
            "\n",
            "      reg_date      plan churn_date  active      state  \n",
            "347 2018-06-17  ultimate        NaN    True     SC MSA  \n",
            "23  2018-07-06      surf        NaN    True  NE-IA MSA  \n",
            "316 2018-05-21      surf        NaN    True     OK MSA  \n"
          ]
        }
      ],
      "source": [
        "# Añadimos la columna 'state' de la columna 'city'\n",
        "\n",
        "df_users['state'] = df_users['city'].str.split(',',n=1).str[1] # Creamos la columna 'state' a partir de 'city' donde separamos por coma y str[1] indica el valor a almacena en la columna 'state'\n",
        "df_users['state'] = df_users['state'].str.strip()              # Quitamos los espacios al inicio y final de cada elemento\n",
        "\n",
        "print(df_users.sample(3))"
      ]
    },
    {
      "cell_type": "markdown",
      "id": "a2403f02-c94a-439e-a52d-62e1fcf1e481",
      "metadata": {},
      "source": [
        "## Llamadas"
      ]
    },
    {
      "cell_type": "code",
      "execution_count": 14,
      "id": "92cad75c-0f42-48e0-96ba-2cc773b321bb",
      "metadata": {
        "trusted": true
      },
      "outputs": [
        {
          "name": "stdout",
          "output_type": "stream",
          "text": [
            "<class 'pandas.core.frame.DataFrame'>\n",
            "RangeIndex: 137735 entries, 0 to 137734\n",
            "Data columns (total 4 columns):\n",
            " #   Column     Non-Null Count   Dtype  \n",
            "---  ------     --------------   -----  \n",
            " 0   id         137735 non-null  object \n",
            " 1   user_id    137735 non-null  int64  \n",
            " 2   call_date  137735 non-null  object \n",
            " 3   duration   137735 non-null  float64\n",
            "dtypes: float64(1), int64(1), object(2)\n",
            "memory usage: 4.2+ MB\n"
          ]
        }
      ],
      "source": [
        "# Imprime la información general/resumida sobre el DataFrame de las llamadas\n",
        "\n",
        "df_calls.info()"
      ]
    },
    {
      "cell_type": "code",
      "execution_count": 15,
      "id": "660e35ce-f45d-410a-95f5-5cd1fd41c145",
      "metadata": {
        "trusted": true
      },
      "outputs": [
        {
          "name": "stdout",
          "output_type": "stream",
          "text": [
            "              id  user_id   call_date  duration\n",
            "19447   1073_300     1073  2018-04-16      3.10\n",
            "137127   1498_49     1498  2018-05-08     15.09\n",
            "70766    1252_80     1252  2018-12-18     19.06\n",
            "5195    1022_461     1022  2018-06-03     12.00\n",
            "15890   1062_130     1062  2018-07-12      3.42\n",
            "80028    1287_77     1287  2018-11-22      0.00\n",
            "50517    1182_90     1182  2018-11-18      1.96\n",
            "77839   1278_223     1278  2018-12-18      0.00\n",
            "64541    1233_51     1233  2018-11-22      0.21\n",
            "57410   1206_153     1206  2018-09-16      0.00\n"
          ]
        }
      ],
      "source": [
        "# Imprime una muestra de datos para las llamadas\n",
        "\n",
        "print(df_calls.sample(10))"
      ]
    },
    {
      "cell_type": "markdown",
      "id": "537f9823-d9ee-4656-b895-60cc77ac7a5b",
      "metadata": {},
      "source": [
        "[Describe lo que ves y observas en la información general y en la muestra de datos impresa para el precio de datos anterior. ¿Hay algún problema (tipos de datos no adecuados, datos ausentes, etc.) que pudieran necesitar investigación y cambios adicionales? ¿Cómo se puede arreglar?]\n",
        "\n",
        "Un dataset de 4 columnas que describe cuánto duró la llamada de un usuario y la fecha en la que la realizó. Megaline redondea la duración. Aún cuando la llamada haya durado 1 segundo, esta cuenta como 1 minuto. Hay que corregir la duración de las llamadas para que muestre minutos enteros y lo podemos resolver con una función. También necesitamos cambiar el tipo de dato de la columna 'call_date' a datetime. Una vez hecho, se crea una nueva columna que muestre el mes en el que se realizó la llamada"
      ]
    },
    {
      "cell_type": "markdown",
      "id": "343f2f9f-5287-4ccc-bc8a-6fea4c8e21ad",
      "metadata": {},
      "source": [
        "### Corregir los datos"
      ]
    },
    {
      "cell_type": "markdown",
      "id": "d13af2df-c067-4530-8ae8-013233355340",
      "metadata": {},
      "source": [
        "Buscamos valores duplicados y nulos. Redondeamos la duración de las llamadas a su siguiente número entero "
      ]
    },
    {
      "cell_type": "code",
      "execution_count": 16,
      "id": "0ec45e47-db96-41aa-abb3-3a8c5c20bcf4",
      "metadata": {
        "trusted": true
      },
      "outputs": [
        {
          "name": "stdout",
          "output_type": "stream",
          "text": [
            "Hay: 0  valores duplicados\n",
            "Hay: 0  id de llamada duplicados\n"
          ]
        }
      ],
      "source": [
        "# Buscamos valores duplicados \n",
        "\n",
        "print('Hay:', df_calls.duplicated().sum(),' valores duplicados')\n",
        "print('Hay:', df_calls['id'].duplicated().sum(),' id de llamada duplicados')"
      ]
    },
    {
      "cell_type": "code",
      "execution_count": 17,
      "id": "1bcf2b40-87c0-4c85-aa3e-835b80d77006",
      "metadata": {
        "trusted": true
      },
      "outputs": [
        {
          "name": "stdout",
          "output_type": "stream",
          "text": [
            "Valores nulos en el dataframe de llamadas: \n",
            " id           0\n",
            "user_id      0\n",
            "call_date    0\n",
            "duration     0\n",
            "dtype: int64\n"
          ]
        }
      ],
      "source": [
        "# Buscamos valores nulos\n",
        "\n",
        "print('Valores nulos en el dataframe de llamadas:','\\n',df_calls.isna().sum())"
      ]
    },
    {
      "cell_type": "code",
      "execution_count": 18,
      "id": "a9d1389c-81f2-4402-8ffa-50529764dd8f",
      "metadata": {
        "trusted": true
      },
      "outputs": [
        {
          "name": "stdout",
          "output_type": "stream",
          "text": [
            "              id  user_id   call_date  duration\n",
            "91165   1328_795     1328  2018-11-26         2\n",
            "21637   1079_350     1079  2018-12-09        12\n",
            "116081  1406_307     1406  2018-12-13         0\n",
            "38555   1144_467     1144  2018-07-07         6\n",
            "46204   1167_287     1167  2018-06-27         2\n"
          ]
        }
      ],
      "source": [
        "# Creamos función que redondee al siguiente número \n",
        "\n",
        "def round_up(number):\n",
        "    return math.ceil(number)                                # Redondea el número hacia arriba al entero más cercano\n",
        "\n",
        "df_calls['duration'] = df_calls['duration'].apply(round_up) # Llamamos .apply() para aplicar la función a la columna 'duration'\n",
        "\n",
        "print(df_calls.sample(5)) "
      ]
    },
    {
      "cell_type": "code",
      "execution_count": 19,
      "id": "047f57c7-b89f-491d-aeae-924097d5052e",
      "metadata": {
        "trusted": true
      },
      "outputs": [
        {
          "name": "stdout",
          "output_type": "stream",
          "text": [
            "<class 'pandas.core.frame.DataFrame'>\n",
            "RangeIndex: 137735 entries, 0 to 137734\n",
            "Data columns (total 4 columns):\n",
            " #   Column     Non-Null Count   Dtype         \n",
            "---  ------     --------------   -----         \n",
            " 0   id         137735 non-null  object        \n",
            " 1   user_id    137735 non-null  int64         \n",
            " 2   call_date  137735 non-null  datetime64[ns]\n",
            " 3   duration   137735 non-null  int64         \n",
            "dtypes: datetime64[ns](1), int64(2), object(1)\n",
            "memory usage: 4.2+ MB\n"
          ]
        }
      ],
      "source": [
        "# Cambiamos la columna 'call_date' a datetime\n",
        "\n",
        "df_calls['call_date'] = pd.to_datetime(df_calls['call_date'], format = '%Y-%m-%d')\n",
        "\n",
        "df_calls.info()"
      ]
    },
    {
      "cell_type": "markdown",
      "id": "09613923-7668-459d-a208-8c9d74bb4f2e",
      "metadata": {},
      "source": [
        "### Enriquecer los datos"
      ]
    },
    {
      "cell_type": "markdown",
      "id": "6760be01-3ddb-4574-8236-43281083d004",
      "metadata": {},
      "source": [
        "Creamos una columna que muestre el mes en el que se hizo la llamada"
      ]
    },
    {
      "cell_type": "code",
      "execution_count": 20,
      "id": "0b5123fd-827e-4e46-a78f-2f388ff0c283",
      "metadata": {
        "trusted": true
      },
      "outputs": [
        {
          "name": "stdout",
          "output_type": "stream",
          "text": [
            "              id  user_id  call_date  duration  month\n",
            "84524    1312_16     1312 2018-07-07         0      7\n",
            "114266  1400_616     1400 2018-05-24        21      5\n",
            "71216    1253_62     1253 2018-11-26        13     11\n",
            "12493   1054_219     1054 2018-11-10        13     11\n",
            "12359    1054_81     1054 2018-09-28         0      9\n"
          ]
        }
      ],
      "source": [
        "# Creamos la columna 'month' a partir de 'call_date' \n",
        "\n",
        "df_calls['month'] = df_calls['call_date'].dt.month # Utilizamos el atributo .dt.month\n",
        "\n",
        "print(df_calls.sample(5))"
      ]
    },
    {
      "cell_type": "markdown",
      "id": "e2fad66d-6215-421f-8cf0-07226107131f",
      "metadata": {},
      "source": [
        "## Mensajes"
      ]
    },
    {
      "cell_type": "code",
      "execution_count": 21,
      "id": "10412ca8-8c2e-4abd-baa9-cebfaf17d8b2",
      "metadata": {
        "trusted": true
      },
      "outputs": [
        {
          "name": "stdout",
          "output_type": "stream",
          "text": [
            "<class 'pandas.core.frame.DataFrame'>\n",
            "RangeIndex: 76051 entries, 0 to 76050\n",
            "Data columns (total 3 columns):\n",
            " #   Column        Non-Null Count  Dtype \n",
            "---  ------        --------------  ----- \n",
            " 0   id            76051 non-null  object\n",
            " 1   user_id       76051 non-null  int64 \n",
            " 2   message_date  76051 non-null  object\n",
            "dtypes: int64(1), object(2)\n",
            "memory usage: 1.7+ MB\n"
          ]
        }
      ],
      "source": [
        "# Imprime la información general/resumida sobre el DataFrame de los mensajes\n",
        "\n",
        "df_messages.info()"
      ]
    },
    {
      "cell_type": "code",
      "execution_count": 22,
      "id": "32f2b176-a361-442b-af5d-0299d571615c",
      "metadata": {
        "trusted": true
      },
      "outputs": [
        {
          "name": "stdout",
          "output_type": "stream",
          "text": [
            "             id  user_id message_date\n",
            "61548   1385_12     1385   2018-06-26\n",
            "47917  1324_643     1324   2018-05-28\n",
            "39894  1258_361     1258   2018-12-14\n",
            "7867   1060_203     1060   2018-11-02\n",
            "43087   1283_26     1283   2018-12-01\n",
            "38422  1252_262     1252   2018-10-20\n",
            "5010    1046_72     1046   2018-12-30\n",
            "31187   1195_54     1195   2018-10-23\n",
            "7624   1059_508     1059   2018-05-06\n",
            "30256  1189_218     1189   2018-11-20\n"
          ]
        }
      ],
      "source": [
        "# Imprime una muestra de datos para los mensajes\n",
        "\n",
        "print(df_messages.sample(10))"
      ]
    },
    {
      "cell_type": "markdown",
      "id": "f9a38e4b-8326-4fa8-bcb1-1c6f59ee0466",
      "metadata": {},
      "source": [
        "[Describe lo que ves y observas en la información general y en la muestra de datos impresa para el precio de datos anterior. ¿Hay algún problema (tipos de datos no adecuados, datos ausentes, etc.) que pudieran necesitar investigación y cambios adicionales? ¿Cómo se puede arreglar?]\n",
        "\n",
        "Un dataframe sencillo de 3 columnas que muestra la fecha en la que un usuario envió un mensaje. La única corrección necesaria es cambiar el tipo de dato de la columna 'message_date' a datetime. Posterior a eso, creamos una nueva columna que muestre el mes en el que el usuario mandó el mensaje."
      ]
    },
    {
      "cell_type": "markdown",
      "id": "b90d6085-2776-4865-8c79-c668974b4eb8",
      "metadata": {},
      "source": [
        "### Corregir los datos"
      ]
    },
    {
      "cell_type": "markdown",
      "id": "90a8ac1e-87f4-428c-a72a-6d1b985672be",
      "metadata": {},
      "source": [
        "Buscamos valores duplicados y nulos. Modificamos la fecha a datetime"
      ]
    },
    {
      "cell_type": "code",
      "execution_count": 23,
      "id": "0ebd89c1-c67d-4974-a986-6c461d7a1518",
      "metadata": {
        "trusted": true
      },
      "outputs": [
        {
          "name": "stdout",
          "output_type": "stream",
          "text": [
            "Hay: 0  valores duplicados\n",
            "Hay: 0  id de mensaje duplicados\n"
          ]
        }
      ],
      "source": [
        "# Buscamos valores duplicados \n",
        "\n",
        "print('Hay:', df_messages.duplicated().sum(),' valores duplicados')\n",
        "print('Hay:', df_messages['id'].duplicated().sum(),' id de mensaje duplicados')"
      ]
    },
    {
      "cell_type": "code",
      "execution_count": 24,
      "id": "4dffc7b8-d4ac-4aa9-b657-6f02da7f5741",
      "metadata": {
        "trusted": true
      },
      "outputs": [
        {
          "name": "stdout",
          "output_type": "stream",
          "text": [
            "Valores nulos en el dataframe de mensajes: \n",
            " id              0\n",
            "user_id         0\n",
            "message_date    0\n",
            "dtype: int64\n"
          ]
        }
      ],
      "source": [
        "# Buscamos valores nulos\n",
        "\n",
        "print('Valores nulos en el dataframe de mensajes:','\\n',df_messages.isna().sum())"
      ]
    },
    {
      "cell_type": "code",
      "execution_count": 25,
      "id": "a00fdcc7-74dc-4dd5-95e4-73a7e4cd555c",
      "metadata": {
        "trusted": true
      },
      "outputs": [
        {
          "name": "stdout",
          "output_type": "stream",
          "text": [
            "<class 'pandas.core.frame.DataFrame'>\n",
            "RangeIndex: 76051 entries, 0 to 76050\n",
            "Data columns (total 3 columns):\n",
            " #   Column        Non-Null Count  Dtype         \n",
            "---  ------        --------------  -----         \n",
            " 0   id            76051 non-null  object        \n",
            " 1   user_id       76051 non-null  int64         \n",
            " 2   message_date  76051 non-null  datetime64[ns]\n",
            "dtypes: datetime64[ns](1), int64(1), object(1)\n",
            "memory usage: 1.7+ MB\n"
          ]
        }
      ],
      "source": [
        "df_messages['message_date'] = pd.to_datetime(df_messages['message_date'], format = '%Y-%m-%d')\n",
        "\n",
        "df_messages.info()"
      ]
    },
    {
      "cell_type": "markdown",
      "id": "afb54865-2f14-4f52-9b46-6df00596f051",
      "metadata": {},
      "source": [
        "### Enriquecer los datos"
      ]
    },
    {
      "cell_type": "markdown",
      "id": "2d658131-ee7f-4b2d-84ae-422db6192724",
      "metadata": {},
      "source": [
        "Creamos una columna que muestre el mes en el que se hizo la llamada"
      ]
    },
    {
      "cell_type": "code",
      "execution_count": 26,
      "id": "3607d420-391a-47ba-a670-3a8546bd4bac",
      "metadata": {
        "trusted": true
      },
      "outputs": [
        {
          "name": "stdout",
          "output_type": "stream",
          "text": [
            "             id  user_id message_date  month\n",
            "68466   1442_38     1442   2018-12-19     12\n",
            "38639  1254_143     1254   2018-08-14      8\n",
            "72684  1470_312     1470   2018-09-02      9\n",
            "43565   1289_64     1289   2018-12-22     12\n",
            "63972   1408_97     1408   2018-10-23     10\n"
          ]
        }
      ],
      "source": [
        "# Creamos la columna 'month' a partir de 'message_date' \n",
        "\n",
        "df_messages['month'] = df_messages['message_date'].dt.month # Utilizamos el atributo .dt.month\n",
        "\n",
        "print(df_messages.sample(5))"
      ]
    },
    {
      "cell_type": "markdown",
      "id": "adde9d1d-15ae-4e8c-8a54-75af97ebab07",
      "metadata": {},
      "source": [
        "## Internet"
      ]
    },
    {
      "cell_type": "code",
      "execution_count": 27,
      "id": "2333c942-3984-4424-90ec-e36f016a3a44",
      "metadata": {
        "trusted": true
      },
      "outputs": [
        {
          "name": "stdout",
          "output_type": "stream",
          "text": [
            "<class 'pandas.core.frame.DataFrame'>\n",
            "RangeIndex: 104825 entries, 0 to 104824\n",
            "Data columns (total 4 columns):\n",
            " #   Column        Non-Null Count   Dtype  \n",
            "---  ------        --------------   -----  \n",
            " 0   id            104825 non-null  object \n",
            " 1   user_id       104825 non-null  int64  \n",
            " 2   session_date  104825 non-null  object \n",
            " 3   mb_used       104825 non-null  float64\n",
            "dtypes: float64(1), int64(1), object(2)\n",
            "memory usage: 3.2+ MB\n"
          ]
        }
      ],
      "source": [
        "# Imprime la información general/resumida sobre el DataFrame de internet\n",
        "\n",
        "df_internet.info()"
      ]
    },
    {
      "cell_type": "code",
      "execution_count": 28,
      "id": "66e27065-ffd6-49fc-bd74-13cbf75b294a",
      "metadata": {
        "trusted": true
      },
      "outputs": [
        {
          "name": "stdout",
          "output_type": "stream",
          "text": [
            "             id  user_id session_date  mb_used\n",
            "51215  1231_144     1231   2018-08-28   110.81\n",
            "16266  1073_165     1073   2018-09-05   390.29\n",
            "32830  1147_480     1147   2018-07-12   232.89\n",
            "94167  1439_220     1439   2018-08-29   366.71\n",
            "64160   1294_81     1294   2018-10-17   644.56\n",
            "11751   1057_91     1057   2018-11-29   896.62\n",
            "19088  1085_162     1085   2018-12-09   189.99\n",
            "64316  1295_210     1295   2018-12-22   616.55\n",
            "45609  1202_198     1202   2018-11-01   527.90\n",
            "48088  1214_462     1214   2018-10-17   327.56\n"
          ]
        }
      ],
      "source": [
        "# Imprime una muestra de datos para el tráfico de internet\n",
        "\n",
        "print(df_internet.sample(10))"
      ]
    },
    {
      "cell_type": "markdown",
      "id": "9edec242-d0c4-45b0-8c64-0de55035e0ed",
      "metadata": {},
      "source": [
        "[Describe lo que ves y observas en la información general y en la muestra de datos impresa para el precio de datos anterior. ¿Hay algún problema (tipos de datos no adecuados, datos ausentes, etc.) que pudieran necesitar investigación y cambios adicionales? ¿Cómo se puede arreglar?]\n",
        "\n",
        "Un dataset de que contiene 4 columnas acerca del uso de internet. El único cambio que se sugiere es cambiar el tipo de dato de la columna 'session_date' a datetime. "
      ]
    },
    {
      "cell_type": "markdown",
      "id": "c5818b9f-a4f9-4887-a795-8205d5dc31d6",
      "metadata": {},
      "source": [
        "### Corregir los datos"
      ]
    },
    {
      "cell_type": "markdown",
      "id": "294ab4a1-9ed6-4799-9a5f-f1738c587a59",
      "metadata": {},
      "source": [
        "Buscamos valores duplicados y nulos. Modificamos la fecha a datetime"
      ]
    },
    {
      "cell_type": "code",
      "execution_count": 29,
      "id": "76ecd27e-16b0-44b6-918f-909d263c62ab",
      "metadata": {
        "trusted": true
      },
      "outputs": [
        {
          "name": "stdout",
          "output_type": "stream",
          "text": [
            "Hay: 0  valores duplicados\n",
            "Hay: 0  id de mensaje duplicados\n"
          ]
        }
      ],
      "source": [
        "# Buscamos valores duplicados \n",
        "\n",
        "print('Hay:', df_internet.duplicated().sum(),' valores duplicados')\n",
        "print('Hay:', df_internet['id'].duplicated().sum(),' id de mensaje duplicados')"
      ]
    },
    {
      "cell_type": "code",
      "execution_count": 30,
      "id": "47114edb-ac12-407e-a839-7e9036a37b03",
      "metadata": {
        "trusted": true
      },
      "outputs": [
        {
          "name": "stdout",
          "output_type": "stream",
          "text": [
            "Valores nulos en el dataframe de internet: \n",
            " id              0\n",
            "user_id         0\n",
            "session_date    0\n",
            "mb_used         0\n",
            "dtype: int64\n"
          ]
        }
      ],
      "source": [
        "# Buscamos valores nulos\n",
        "\n",
        "print('Valores nulos en el dataframe de internet:','\\n',df_internet.isna().sum())"
      ]
    },
    {
      "cell_type": "code",
      "execution_count": 31,
      "id": "30394c0b-8d59-49e6-90c3-606cd99b8235",
      "metadata": {
        "trusted": true
      },
      "outputs": [
        {
          "name": "stdout",
          "output_type": "stream",
          "text": [
            "<class 'pandas.core.frame.DataFrame'>\n",
            "RangeIndex: 104825 entries, 0 to 104824\n",
            "Data columns (total 4 columns):\n",
            " #   Column        Non-Null Count   Dtype         \n",
            "---  ------        --------------   -----         \n",
            " 0   id            104825 non-null  object        \n",
            " 1   user_id       104825 non-null  int64         \n",
            " 2   session_date  104825 non-null  datetime64[ns]\n",
            " 3   mb_used       104825 non-null  float64       \n",
            "dtypes: datetime64[ns](1), float64(1), int64(1), object(1)\n",
            "memory usage: 3.2+ MB\n"
          ]
        }
      ],
      "source": [
        "df_internet['session_date'] = pd.to_datetime(df_internet['session_date'], format = '%Y-%m-%d')\n",
        "\n",
        "df_internet.info()"
      ]
    },
    {
      "cell_type": "markdown",
      "id": "e931bd51-8fd3-4fd8-9cd8-8f4e649b0a77",
      "metadata": {},
      "source": [
        "### Enriquecer los datos"
      ]
    },
    {
      "cell_type": "markdown",
      "id": "585e5ca4-96c9-48b8-8800-04688d69f53f",
      "metadata": {},
      "source": [
        "Creamos una columna que muestre el mes en el que se hizo la llamada"
      ]
    },
    {
      "cell_type": "code",
      "execution_count": 32,
      "id": "367aa4dd-bf40-4ce5-8256-c9d79fc04448",
      "metadata": {
        "trusted": true
      },
      "outputs": [
        {
          "name": "stdout",
          "output_type": "stream",
          "text": [
            "              id  user_id session_date  mb_used  month\n",
            "77842    1363_23     1363   2018-11-19   509.33     11\n",
            "91299   1420_192     1420   2018-11-10     0.00     11\n",
            "30911   1141_253     1141   2018-08-15   512.91      8\n",
            "103390  1494_272     1494   2018-10-12   274.49     10\n",
            "11660     1057_0     1057   2018-11-03   785.25     11\n"
          ]
        }
      ],
      "source": [
        "# Creamos la columna 'month' a partir de 'session_date' \n",
        "\n",
        "df_internet['month'] = df_internet['session_date'].dt.month # Utilizamos el atributo .dt.month\n",
        "\n",
        "print(df_internet.sample(5))"
      ]
    },
    {
      "cell_type": "markdown",
      "id": "30db311e-c2fd-4272-bae8-f22552f433d5",
      "metadata": {},
      "source": [
        "## Estudiar las condiciones de las tarifas"
      ]
    },
    {
      "cell_type": "markdown",
      "id": "7f09d0ae-625a-4b7e-8dae-1e44ca926422",
      "metadata": {},
      "source": [
        "[Es sumamente importante entender cómo funcionan las tarifas, cómo se les cobra a los usuarios en función de su plan de suscripción. Así que te sugerimos imprimir la información de la tarifa para ver una vez más sus condiciones.]"
      ]
    },
    {
      "cell_type": "code",
      "execution_count": 33,
      "id": "9be905b8-1beb-4a39-870f-fce2015c8286",
      "metadata": {
        "trusted": true
      },
      "outputs": [
        {
          "name": "stdout",
          "output_type": "stream",
          "text": [
            "   messages_included  mb_per_month_included  minutes_included  \\\n",
            "0                 50                  15360               500   \n",
            "1               1000                  30720              3000   \n",
            "\n",
            "   usd_monthly_pay  usd_per_gb  usd_per_message  usd_per_minute plan_name  \n",
            "0               20          10             0.03            0.03      surf  \n",
            "1               70           7             0.01            0.01  ultimate  \n"
          ]
        }
      ],
      "source": [
        "# Imprime las condiciones de la tarifa y asegúrate de que te quedan claras\n",
        "\n",
        "print(df_plans)"
      ]
    },
    {
      "cell_type": "markdown",
      "id": "e782456d-ec21-428e-a354-59b8bbc92253",
      "metadata": {},
      "source": [
        "## Agregar datos por usuario\n",
        "\n",
        "[Ahora que los datos están limpios, agrega los datos por usuario y por periodo para que solo haya un registro por usuario y por periodo. Esto facilitará mucho el análisis posterior.]\n",
        "\n",
        "Utilizando .groupby() vamos a separar cada dataframe con la información que nos interesa. Después, haciendo uso de .merge() se creará un nuevo dataframe que de detalles de los minutos, mensajes y megabytes utilizados por user_id por cada mes. "
      ]
    },
    {
      "cell_type": "code",
      "execution_count": 34,
      "id": "a3b34126-88a5-4a88-99d3-196db63fbc55",
      "metadata": {
        "trusted": true
      },
      "outputs": [
        {
          "name": "stdout",
          "output_type": "stream",
          "text": [
            "      user_id  month  id\n",
            "0        1000     12  16\n",
            "1        1001      8  27\n",
            "2        1001      9  49\n",
            "3        1001     10  65\n",
            "4        1001     11  64\n",
            "...       ...    ...  ..\n",
            "2253     1498     12  39\n",
            "2254     1499      9  41\n",
            "2255     1499     10  53\n",
            "2256     1499     11  45\n",
            "2257     1499     12  65\n",
            "\n",
            "[2258 rows x 3 columns]\n"
          ]
        }
      ],
      "source": [
        "# Calcula el número de llamadas hechas por cada usuario al mes. Guarda el resultado.\n",
        "\n",
        "user_calls_per_month = df_calls.groupby(['user_id', 'month'])['id'].count().reset_index() # Agrupando por 'user_id' y 'month' contamos cuántas llamdas hizo el usuario en el mes\n",
        "\n",
        "print(user_calls_per_month)"
      ]
    },
    {
      "cell_type": "code",
      "execution_count": 35,
      "id": "9f0e6051-c180-45bb-8fc8-9324b2a09671",
      "metadata": {
        "trusted": true
      },
      "outputs": [
        {
          "name": "stdout",
          "output_type": "stream",
          "text": [
            "      user_id  month  duration\n",
            "0        1000     12       124\n",
            "1        1001      8       182\n",
            "2        1001      9       315\n",
            "3        1001     10       393\n",
            "4        1001     11       426\n",
            "...       ...    ...       ...\n",
            "2253     1498     12       339\n",
            "2254     1499      9       346\n",
            "2255     1499     10       385\n",
            "2256     1499     11       308\n",
            "2257     1499     12       496\n",
            "\n",
            "[2258 rows x 3 columns]\n"
          ]
        }
      ],
      "source": [
        "# Calcula la cantidad de minutos usados por cada usuario al mes. Guarda el resultado.\n",
        "\n",
        "user_min_per_month = df_calls.groupby(['user_id','month'])['duration'].sum().reset_index() # Agrupando por 'user_id' y 'month' sumamos la duración los minutos utilizados por el usuario. Reiniciamos el índice para un mejor despliegue de datos\n",
        "\n",
        "print(user_min_per_month)"
      ]
    },
    {
      "cell_type": "code",
      "execution_count": 36,
      "id": "2501c344-e39f-48ea-8e65-e50f611b509c",
      "metadata": {
        "trusted": true
      },
      "outputs": [
        {
          "name": "stdout",
          "output_type": "stream",
          "text": [
            "      user_id  month  id\n",
            "0        1000     12  11\n",
            "1        1001      8  30\n",
            "2        1001      9  44\n",
            "3        1001     10  53\n",
            "4        1001     11  36\n",
            "...       ...    ...  ..\n",
            "1801     1496      9  21\n",
            "1802     1496     10  18\n",
            "1803     1496     11  13\n",
            "1804     1496     12  11\n",
            "1805     1497     12  50\n",
            "\n",
            "[1806 rows x 3 columns]\n"
          ]
        }
      ],
      "source": [
        "# Calcula el número de mensajes enviados por cada usuario al mes. Guarda el resultado.\n",
        "\n",
        "user_messages_per_month = df_messages.groupby(['user_id','month'])['id'].count().reset_index() # Agrupando por 'user_id' y 'month' contamos cuántos mensajes utilizó el usuario. Reiniciamos el índice para un mejor despliegue de datos. El conteo de mensajes sale en el dataframe como 'id'\n",
        "\n",
        "print(user_messages_per_month)"
      ]
    },
    {
      "cell_type": "code",
      "execution_count": 37,
      "id": "451d13e1-7a52-428f-8a3a-488a037d03eb",
      "metadata": {
        "trusted": true
      },
      "outputs": [
        {
          "name": "stdout",
          "output_type": "stream",
          "text": [
            "      user_id  month   mb_used\n",
            "0        1000     12   1901.47\n",
            "1        1001      8   6919.15\n",
            "2        1001      9  13314.82\n",
            "3        1001     10  22330.49\n",
            "4        1001     11  18504.30\n",
            "...       ...    ...       ...\n",
            "2272     1498     12  23137.69\n",
            "2273     1499      9  12984.76\n",
            "2274     1499     10  19492.43\n",
            "2275     1499     11  16813.83\n",
            "2276     1499     12  22059.21\n",
            "\n",
            "[2277 rows x 3 columns]\n"
          ]
        }
      ],
      "source": [
        "# Calcula el volumen del tráfico de Internet usado por cada usuario al mes. Guarda el resultado.\n",
        "\n",
        "user_mb_per_month = df_internet.groupby(['user_id','month'])['mb_used'].sum().reset_index() # Agrupando por 'user_id' y 'month' sumamos los megabytes utilizados por el usuario. Reiniciamos el índice para un mejor despliegue de datos\n",
        "\n",
        "print(user_mb_per_month)"
      ]
    },
    {
      "cell_type": "markdown",
      "id": "f055f86a-cd92-4e28-8d66-5f0e69ec4f1b",
      "metadata": {},
      "source": [
        "[Junta los datos agregados en un DataFrame para que haya un registro que represente lo que consumió un usuario único en un mes determinado.]\n",
        "\n",
        "Utilizamos .merge() para unir los dataframes de arriba en uno solo. Tomará varios usos de .merge()"
      ]
    },
    {
      "cell_type": "code",
      "execution_count": 38,
      "id": "f0de7f37-2571-4d68-aa18-47279a3033a4",
      "metadata": {
        "trusted": true
      },
      "outputs": [
        {
          "name": "stdout",
          "output_type": "stream",
          "text": [
            "      user_id  month  minutes_used  sms_used   mb_used\n",
            "0        1000     12         124.0      11.0   1901.47\n",
            "1        1001      8         182.0      30.0   6919.15\n",
            "2        1001      9         315.0      44.0  13314.82\n",
            "3        1001     10         393.0      53.0  22330.49\n",
            "4        1001     11         426.0      36.0  18504.30\n",
            "...       ...    ...           ...       ...       ...\n",
            "2288     1498     12         339.0       NaN  23137.69\n",
            "2289     1499      9         346.0       NaN  12984.76\n",
            "2290     1499     10         385.0       NaN  19492.43\n",
            "2291     1499     11         308.0       NaN  16813.83\n",
            "2292     1499     12         496.0       NaN  22059.21\n",
            "\n",
            "[2293 rows x 5 columns]\n"
          ]
        }
      ],
      "source": [
        "# Fusiona los datos de llamadas, minutos, mensajes e Internet con base en user_id y month\n",
        "\n",
        "df_merged = user_min_per_month.merge(user_messages_per_month, on = ['user_id','month'], how = 'outer') # Fusionamos minutos con mensajes utilizando 'outer' para incluir valores que no estén presentes en algún df\n",
        "\n",
        "df_merged = df_merged.merge(user_mb_per_month, on = ['user_id', 'month'], how = 'outer')               # Fusionamos el df creado con el internet utilizando 'outer' para incluir valores que no estén en algún df\n",
        "\n",
        "df_merged.columns = ['user_id', 'month', 'minutes_used', 'sms_used', 'mb_used']                        # Damos formato a los encabezados\n",
        "\n",
        "print(df_merged)"
      ]
    },
    {
      "cell_type": "code",
      "execution_count": 39,
      "id": "ea3593dc-198d-4213-989d-9e82e9f59f57",
      "metadata": {
        "scrolled": true,
        "trusted": true
      },
      "outputs": [
        {
          "name": "stdout",
          "output_type": "stream",
          "text": [
            "      user_id  month  minutes_used  sms_used   mb_used      plan\n",
            "0        1000     12         124.0      11.0   1901.47  ultimate\n",
            "1        1001      8         182.0      30.0   6919.15      surf\n",
            "2        1001      9         315.0      44.0  13314.82      surf\n",
            "3        1001     10         393.0      53.0  22330.49      surf\n",
            "4        1001     11         426.0      36.0  18504.30      surf\n",
            "...       ...    ...           ...       ...       ...       ...\n",
            "2288     1498     12         339.0       NaN  23137.69      surf\n",
            "2289     1499      9         346.0       NaN  12984.76      surf\n",
            "2290     1499     10         385.0       NaN  19492.43      surf\n",
            "2291     1499     11         308.0       NaN  16813.83      surf\n",
            "2292     1499     12         496.0       NaN  22059.21      surf\n",
            "\n",
            "[2293 rows x 6 columns]\n"
          ]
        }
      ],
      "source": [
        "# Añade la información de la tarifa\n",
        "\n",
        "user_plans = df_users[['user_id','plan']]                             # Sacamos información sobre las tarifas\n",
        "\n",
        "df_merged = df_merged.merge(user_plans, on = 'user_id', how = 'left') # lo anexamos a nuestro dataframe existente utilizando 'left' para que se junte con base en df_merged\n",
        "\n",
        "print(df_merged)"
      ]
    },
    {
      "cell_type": "markdown",
      "id": "1cfd313b-86f5-4f3e-b888-8aa4f313cbf5",
      "metadata": {},
      "source": [
        "[Calcula los ingresos mensuales por usuario (resta el límite del paquete gratuito del número total de llamadas, mensajes de texto y datos; multiplica el resultado por el valor del plan de llamadas; añade la tarifa mensual en función del plan de llamadas). Nota: Dadas las condiciones del plan, ¡esto podría no ser tan trivial como un par de líneas! Así que no pasa nada si dedicas algo de tiempo a ello.]\n",
        "\n",
        "Se calculan los ingresos mensuales para cada renglón de df_merged. Se puede abordar utilizando un diccionario anidado que contenga la información de df_plans y una función. "
      ]
    },
    {
      "cell_type": "code",
      "execution_count": 40,
      "id": "b76fc7e4-1e89-4964-ae51-085c8a57c308",
      "metadata": {
        "trusted": true
      },
      "outputs": [
        {
          "name": "stdout",
          "output_type": "stream",
          "text": [
            "      user_id  month  minutes_used  sms_used   mb_used      plan  monthly_cost\n",
            "703      1147      9         564.0      18.0  35929.97      surf        231.92\n",
            "2189     1475     11         350.0      77.0  18927.32  ultimate         70.00\n",
            "171      1043      9         200.0     101.0  32619.76  ultimate         84.00\n",
            "139      1039      7         460.0      30.0  20939.15  ultimate         70.00\n",
            "711      1149     11         598.0       NaN  12987.49      surf         22.94\n"
          ]
        }
      ],
      "source": [
        "# Calcula el ingreso mensual para cada usuario\n",
        "\n",
        "# Creamos un diccionario anidado con el que podamos trabajar para definir los costos de usuario por mes. Contiene la información de df_plans\n",
        "plans = {\n",
        "'ultimate': {'cost':70, 'minute_limit':3000, 'sms_limit':1000, 'mb_limit':30720, 'extra_min':0.01, 'extra_sms':0.01, 'extra_mb':7},\n",
        "'surf': {'cost':20, 'minute_limit':500, 'sms_limit':50, 'mb_limit': 15360, 'extra_min':0.03, 'extra_sms':0.03, 'extra_mb':10}\n",
        "}\n",
        "\n",
        "def monthly_cost(item):                                           # Creamos una función que evalue el costo mensual por usuario\n",
        "    \n",
        "    ex_min_cost = 0                                               # Partimos de que las variables de costo extra son 0\n",
        "    ex_sms_cost = 0\n",
        "    ex_mb_cost_t = 0\n",
        "    \n",
        "    plan = plans[item['plan']]                                    # Determina el plan a seguir con base en 'item['plan']' que sería cada renglón de nuestro df_merged para la columna 'plan'\n",
        "    \n",
        "    extra_min_used = plan['minute_limit'] - item['minutes_used']  # Fórmula para conocer los minutos extra del usuario en el mes\n",
        "    extra_sms_used = plan['sms_limit'] - item['sms_used']         # Fórmula para conocer los mensajes extra del usuario en el mes\n",
        "    extra_mb_used = plan['mb_limit'] - item['mb_used']            # Fórmula para conocer los megabytes extra del usuario en el mes\n",
        "\n",
        "    if extra_min_used < 0:                                        # Por la fórmula anterior, si los minutos extra son menor a 0:\n",
        "        ex_min_abs = abs(extra_min_used)                          # Se saca el positivo de la diferencia (valor absoluto)\n",
        "        ex_min_cost = ex_min_abs * plan['extra_min']              # Se obtiene el costo extra por minuto\n",
        "    \n",
        "    if extra_sms_used < 0:                                        # Por la fórmula anterior, si los mensajes extra son menor a 0:\n",
        "        ex_sms_abs = abs(extra_sms_used)                          # se saca el positivo de la diferencia (valor absoluto) \n",
        "        ex_sms_cost = ex_sms_abs * plan['extra_sms']              # Se obtiene el costo extra por mensaje\n",
        "    \n",
        "    if extra_mb_used < 0:                                         # Por la fórmula anterior, si los megabytes extra son menor a 0:\n",
        "        ex_mb_abs = abs(extra_mb_used)                            # Se saca el positivo de la diferencia (valor absoluto)\n",
        "        ex_mb_cost = ex_mb_abs/1024                               # Dividimos entre 1024 para conocer los gigabytes extra utilizados\n",
        "        ex_mb_cost_up = math.ceil(ex_mb_cost)                     # Megaline redondea los megabytes hacia arriba (Ej. 6.15 gb = 7 gb)\n",
        "        ex_mb_cost_t = ex_mb_cost_up * plan['extra_mb']           # Se obtiene el costo extra por gigabyte\n",
        "\n",
        "    extra_cost = ex_min_cost + ex_sms_cost + ex_mb_cost_t         # Sumamos los rubros de costos extra\n",
        "    total_cost = plan[\"cost\"] + extra_cost                        # Obtenemos el costo total = costo fijo + costo extra\n",
        "    return total_cost\n",
        "\n",
        "df_merged['monthly_cost'] = df_merged.apply(monthly_cost, axis=1) # Añadimos la columna 'monthly cost' que aplica la función y despliega el costo mensual\n",
        "\n",
        "print(df_merged.sample(5))"
      ]
    },
    {
      "cell_type": "markdown",
      "id": "b7ef332c-867b-43e0-b46d-034d2f1e7031",
      "metadata": {},
      "source": [
        "## Estudia el comportamiento de usuario"
      ]
    },
    {
      "cell_type": "markdown",
      "id": "6233e343-9050-41cb-b608-39c63415b230",
      "metadata": {},
      "source": [
        "[Calcula algunas estadísticas descriptivas para los datos agregados y fusionados que nos sean útiles y que muestren un panorama general captado por los datos. Dibuja gráficos útiles para facilitar la comprensión. Dado que la tarea principal es comparar las tarifas y decidir cuál es más rentable, las estadísticas y gráficas deben calcularse por tarifa.]\n",
        "\n",
        "[En los comentarios hallarás pistas relevantes para las llamadas, pero no las hay para los mensajes e Internet. Sin embargo, el principio del  estudio estadístico que se aplica para ellos es el mismo que para las llamadas.]"
      ]
    },
    {
      "cell_type": "markdown",
      "id": "13d003e7-22fa-43c5-a055-6723e02e1579",
      "metadata": {},
      "source": [
        "### Llamadas"
      ]
    },
    {
      "cell_type": "code",
      "execution_count": 41,
      "id": "5130dc3c-3eac-40f8-8fde-90db19fdd04c",
      "metadata": {
        "trusted": true
      },
      "outputs": [
        {
          "data": {
            "image/png": "[encoded data removed]",
            "text/plain": [
              "<Figure size 640x480 with 1 Axes>"
            ]
          },
          "metadata": {},
          "output_type": "display_data"
        }
      ],
      "source": [
        "# Compara la duración promedio de llamadas por cada plan y por cada mes. Traza un gráfico de barras para visualizarla.\n",
        "\n",
        "mean_call_per_month = df_merged.groupby(['month','plan'])['minutes_used'].mean().reset_index() # Agrupando por mes y plan obtenemos el promedio de los minutos usados. Reiniciamos el índice\n",
        "\n",
        "# Creamos pivot table para centrarnos en la información que nos interesa\n",
        "pivot_mean_call = mean_call_per_month.pivot_table(index = 'month',                             # Usamos el mes como índice\n",
        "                                                  columns = 'plan',                            # Las columnas serán los planes (surf y ultimate)\n",
        "                                                  values = 'minutes_used')                     # Los valores de la tabla será el promedio de minutos del mes\n",
        "\n",
        "pivot_mean_call.plot(kind = 'bar',                                                             # Creamos un gráfico de barras\n",
        "                     title = 'Duración promedio de llamadas por plan y mes',\n",
        "                     ylabel = 'minutos',\n",
        "                     xlabel = 'mes', \n",
        "                     ylim = [0,600])\n",
        "\n",
        "plt.legend(['surf','ultimate'])\n",
        "\n",
        "plt.show()"
      ]
    },
    {
      "cell_type": "markdown",
      "id": "f1e9381b-becd-4fc6-8846-24cbd4de4105",
      "metadata": {},
      "source": [
        "El promedio de minutos parece ser similar entre planes por varios meses. No se observan diferencias significativas fuera del mes 2, donde el promedio de 'Ultimate' es mucho mayor al de 'Surf. Falta la confirmación de hipótesis."
      ]
    },
    {
      "cell_type": "code",
      "execution_count": 42,
      "id": "34143f27-6d77-4fb9-9e7c-0e8fcdc33239",
      "metadata": {
        "trusted": true
      },
      "outputs": [
        {
          "data": {
            "image/png": "[encoded data removed]",
            "text/plain": [
              "<Figure size 640x480 with 1 Axes>"
            ]
          },
          "metadata": {},
          "output_type": "display_data"
        }
      ],
      "source": [
        "# Compara el número de minutos mensuales que necesitan los usuarios de cada plan. Traza un histograma.\n",
        "\n",
        "min_per_month = df_merged[['month','minutes_used','plan']]                              # Obtenemos un df que solo tenga información sobre el plan, mes y minutos usados en llamada\n",
        "\n",
        "surf_min_per_month = min_per_month[min_per_month['plan'] == 'surf']                     # Creamos variable que guarde solo los valores del plan 'surf'\n",
        "ultimate_min_per_month = min_per_month[min_per_month['plan'] == 'ultimate']             # Creamos variable que guarde solo los valores del plan 'ultimate'\n",
        "\n",
        "surf_min_per_month['minutes_used'].plot(kind = 'hist',                                  # Creamos el histograma\n",
        "                                        bins = 25, \n",
        "                                        title = 'Minutos mensuales utilizados por plan',\n",
        "                                        xlabel = 'minutos',\n",
        "                                        ylabel = 'Frecuencia')\n",
        "ultimate_min_per_month['minutes_used'].plot(kind = 'hist',\n",
        "                                            bins = 25, \n",
        "                                            alpha = 0.85)\n",
        "\n",
        "plt.legend(['surf','ultimate'])\n",
        "plt.show()"
      ]
    },
    {
      "cell_type": "markdown",
      "id": "6679bb29-4dfc-4ce7-beec-51d5a7d702aa",
      "metadata": {},
      "source": [
        "Hay una mayor frecuencia de los usuarios de 'Surf' que de 'Ultimate', se asume que esto se debe a la cantidad de usuarios del plan. A simple vista, podemos ver que los datos están sesgados a la derecha, siendo el pico de cada histograma entre los 400-500 minutos. Tenemos otros contenedores (valores adicionales) localizadas al extremo derecho del gráfico, lo que podría suponer valores atípicos. "
      ]
    },
    {
      "cell_type": "markdown",
      "id": "9865b5c0-1aad-4569-a905-5e5ac47fc59d",
      "metadata": {},
      "source": [
        "[Calcula la media y la varianza de la duración de las llamadas para averiguar si los usuarios de los distintos planes se comportan de forma diferente al realizar sus llamadas.]"
      ]
    },
    {
      "cell_type": "code",
      "execution_count": 43,
      "id": "c64448e8-c905-43c0-b28e-5104e047b7da",
      "metadata": {
        "trusted": true
      },
      "outputs": [
        {
          "name": "stdout",
          "output_type": "stream",
          "text": [
            "La media de llamadas para usuarios \"Surf\" es: 436.520 minutos\n",
            "La varianza de llamadas para usuarios \"Surf\" es: 52537.037 minutos\n",
            "\n",
            "La media de llamadas para usuarios \"Ultimate\" es: 434.676 minutos\n",
            "La varianza de llamadas para usuarios \"Ultimate\" es: 56494.286 minutos\n"
          ]
        }
      ],
      "source": [
        "# Calcula la media y la varianza de la duración mensual de llamadas.\n",
        "\n",
        "mean_surf_min_per_month = surf_min_per_month['minutes_used'].mean()         # Obtenemos el promedio de minutos de usuarios 'Surf'\n",
        "var_surf_min_per_month = np.var(surf_min_per_month['minutes_used'])         # Obtenemos la varianza de los datos de usuarios 'Surf'\n",
        "\n",
        "mean_ultimate_min_per_month = ultimate_min_per_month['minutes_used'].mean() # Obtenemos el promedio de minutos de usuarios 'Ultimate'\n",
        "var_ultimate_min_per_month = np.var(ultimate_min_per_month['minutes_used']) # Obtenemos la varianza de los datos de usuarios 'Ultimate'\n",
        "\n",
        "print(f'La media de llamadas para usuarios \"Surf\" es: {mean_surf_min_per_month:.3f} minutos')\n",
        "print(f'La varianza de llamadas para usuarios \"Surf\" es: {var_surf_min_per_month:.3f} minutos')\n",
        "print()\n",
        "print(f'La media de llamadas para usuarios \"Ultimate\" es: {mean_ultimate_min_per_month:.3f} minutos')\n",
        "print(f'La varianza de llamadas para usuarios \"Ultimate\" es: {var_ultimate_min_per_month:.3f} minutos')"
      ]
    },
    {
      "cell_type": "code",
      "execution_count": 44,
      "id": "558bf6ff-7bf7-4f02-a411-41134782a442",
      "metadata": {
        "trusted": true
      },
      "outputs": [
        {
          "data": {
            "text/plain": [
              "Text(0, 0.5, 'Minutos')"
            ]
          },
          "execution_count": 44,
          "metadata": {},
          "output_type": "execute_result"
        },
        {
          "data": {
            "image/png": "[encoded data removed]",
            "text/plain": [
              "<Figure size 640x480 with 1 Axes>"
            ]
          },
          "metadata": {},
          "output_type": "display_data"
        }
      ],
      "source": [
        "# Traza un diagrama de caja para visualizar la distribución de la duración mensual de llamadas\n",
        "\n",
        "sns.boxplot(surf_min_per_month['minutes_used'])\n",
        "plt.title('Distribución de llamadas de usuarios Surf')\n",
        "plt.ylabel('Minutos')"
      ]
    },
    {
      "cell_type": "code",
      "execution_count": 45,
      "id": "6e5ac4ac-8839-4504-baa9-22f39e4339e4",
      "metadata": {
        "trusted": true
      },
      "outputs": [
        {
          "data": {
            "text/plain": [
              "Text(0, 0.5, 'Minutos')"
            ]
          },
          "execution_count": 45,
          "metadata": {},
          "output_type": "execute_result"
        },
        {
          "data": {
            "image/png": "[encoded data removed]",
            "text/plain": [
              "<Figure size 640x480 with 1 Axes>"
            ]
          },
          "metadata": {},
          "output_type": "display_data"
        }
      ],
      "source": [
        "# Diagrama de caja para distribución de usuarios Ultimate\n",
        "\n",
        "sns.boxplot(ultimate_min_per_month['minutes_used'])\n",
        "plt.title('Distribución de llamadas de usuarios Ultimate')\n",
        "plt.ylabel('Minutos')"
      ]
    },
    {
      "cell_type": "markdown",
      "id": "4cedf1a3-292a-48a8-81ca-4635cac04f84",
      "metadata": {},
      "source": [
        "[Elabora las conclusiones sobre el comportamiento de los usuarios con respecto a las llamadas. ¿Su comportamiento varía en función del plan?]\n",
        "\n",
        "Ambas distribuciones tienen medias similares (Surf = 463.52 minutos, Ultimate = 434.676 minutos) y varianzas muy altas (Surf = 52537.04, Ultimate = 56494.28). De igual manera, ambos tienen varios valores atípicos y sus valores máximos están por encima de los 1000 minutos. \n",
        "\n",
        "A falta de probar la hipótesis para corroborar si hay diferencia entre los planes, se puede inferir que el comportamiento no varia en función del plan contratado."
      ]
    },
    {
      "cell_type": "markdown",
      "id": "9ef1e78f-0533-4311-b1a1-bb3e4c2b9e87",
      "metadata": {},
      "source": [
        "### Mensajes"
      ]
    },
    {
      "cell_type": "code",
      "execution_count": 46,
      "id": "b57966ac-06ec-4226-9067-c21c35cb1f92",
      "metadata": {
        "trusted": true
      },
      "outputs": [
        {
          "name": "stdout",
          "output_type": "stream",
          "text": [
            "      month  sms_used      plan\n",
            "0        12      11.0  ultimate\n",
            "1         8      30.0      surf\n",
            "2         9      44.0      surf\n",
            "3        10      53.0      surf\n",
            "4        11      36.0      surf\n",
            "...     ...       ...       ...\n",
            "2273      9      21.0      surf\n",
            "2274     10      18.0      surf\n",
            "2275     11      13.0      surf\n",
            "2276     12      11.0      surf\n",
            "2277     12      50.0  ultimate\n",
            "\n",
            "[1806 rows x 3 columns]\n"
          ]
        },
        {
          "name": "stderr",
          "output_type": "stream",
          "text": [
            "C:\\Users\\Carlo\\AppData\\Local\\Temp\\ipykernel_25700\\3771050342.py:5: SettingWithCopyWarning: \n",
            "A value is trying to be set on a copy of a slice from a DataFrame\n",
            "\n",
            "See the caveats in the documentation: https://pandas.pydata.org/pandas-docs/stable/user_guide/indexing.html#returning-a-view-versus-a-copy\n",
            "  sms_per_month.dropna(subset = ['sms_used'], inplace = True) # Eliminamos valores nulos ya que se adaptaron a df_merged por incluir 'outer' como parámetro\n"
          ]
        }
      ],
      "source": [
        "# Comprara el número de mensajes que tienden a enviar cada mes los usuarios de cada plan\n",
        "\n",
        "sms_per_month = df_merged[['month','sms_used','plan']]      # Obtenemos un df que solo tenga información sobre el plan, mes y mensajes usados de ambos planes\n",
        "\n",
        "sms_per_month.dropna(subset = ['sms_used'], inplace = True) # Eliminamos valores nulos ya que se adaptaron a df_merged por incluir 'outer' como parámetro\n",
        "\n",
        "print(sms_per_month)"
      ]
    },
    {
      "cell_type": "code",
      "execution_count": 47,
      "id": "89b572d1-436d-4956-84de-d17b56fc7607",
      "metadata": {
        "trusted": true
      },
      "outputs": [
        {
          "data": {
            "image/png": "[encoded data removed]",
            "text/plain": [
              "<Figure size 640x480 with 1 Axes>"
            ]
          },
          "metadata": {},
          "output_type": "display_data"
        }
      ],
      "source": [
        "# Creamos gráfico de barras comparando el promedio de mensajes totales al mes de usuarios entre planes\n",
        "\n",
        "pivot_sms_per_month = sms_per_month.pivot_table(index = 'month',                   # Usamos el mes como índice\n",
        "                                                columns = 'plan',                  # Las columnas serán los planes (surf y ultimate)\n",
        "                                                values = 'sms_used',               # Los valores de la tabla será la suma de mensajes del mes\n",
        "                                                aggfunc = 'mean')                  # Nos interesa el promedio de mensajes que tienden a enviar los usuarios de cada plan    \n",
        "\n",
        "pivot_sms_per_month.plot(kind = 'bar',                                             # Creamos un gráfico de barras\n",
        "                         title = 'Promedio de mensajes enviados por plan y mes', \n",
        "                         ylabel = 'mensajes', \n",
        "                         xlabel = 'mes')\n",
        "\n",
        "plt.legend(['surf','ultimate'])\n",
        "\n",
        "plt.show()"
      ]
    },
    {
      "cell_type": "markdown",
      "id": "7a5ce835-0c17-471c-8e85-e1e8bcf94832",
      "metadata": {},
      "source": [
        "Al haber más usuarios de 'Surf' que de 'Ultimate' se consideró ideal comparar los promedio en lugar de la suma de mensajes. Podemos observar que prácticamente para casi todos los meses, los usuarios de 'Ultimate' envian más mensajes que los de 'Surf'. Un dato interesante es la diferencia de los mensajes incluidos entre planes es considerable, siendo 'Surf' de 50 mensajes mensuales y de 'Ultimate' de 1000 mensajes. No obstante, el promedio mensual de 'Ultimate' está lejos de el límite de mensajes mensuales. Habría que comparar promedios y varianzas para probar nuestra hipótesis"
      ]
    },
    {
      "cell_type": "code",
      "execution_count": 48,
      "id": "02f084f1-cad2-4cef-86ec-cf887df943a5",
      "metadata": {
        "trusted": true
      },
      "outputs": [
        {
          "data": {
            "image/png": "[encoded data removed]",
            "text/plain": [
              "<Figure size 640x480 with 1 Axes>"
            ]
          },
          "metadata": {},
          "output_type": "display_data"
        }
      ],
      "source": [
        "# Compara el número de mensajes mensuales que necesitan los usuarios de cada plan. Traza un histograma.\n",
        "\n",
        "surf_sms_per_month = sms_per_month[sms_per_month['plan'] == 'surf']                     # Creamos variable que guarde solo los valores del plan 'surf'\n",
        "ultimate_sms_per_month = sms_per_month[sms_per_month['plan'] == 'ultimate']             # Creamos variable que guarde solo los valores del plan 'ultimate'\n",
        "\n",
        "surf_sms_per_month['sms_used'].plot(kind = 'hist',                                  # Creamos el histograma\n",
        "                                        bins = 25, \n",
        "                                        title = 'Mensajes mensuales utilizados por plan',\n",
        "                                        xlabel = 'minutos',\n",
        "                                        ylabel = 'Frecuencia')\n",
        "ultimate_sms_per_month['sms_used'].plot(kind = 'hist',\n",
        "                                            bins = 25, \n",
        "                                            alpha = 0.85)\n",
        "\n",
        "plt.legend(['surf','ultimate'])\n",
        "plt.show()"
      ]
    },
    {
      "cell_type": "markdown",
      "id": "eaba2380-1e7d-4c06-92b8-8e5414f14c6c",
      "metadata": {},
      "source": [
        "La frecuencia de 'Surf' es mucho mayor que de 'Ultimate', nuevamente esto se atribuye a la cantidad de usuarios del plan. Podemos ver un sesgo a la derecha, siendo el pico de 'Surf' alrededor de 0-10 y de 'Ultimate' de 20-30. Se observan unos pequeños contenedores localizados al extremo derecho del gráfico lo que podría suponer valores atípicos. "
      ]
    },
    {
      "cell_type": "code",
      "execution_count": 49,
      "id": "40de1ab9-114f-4310-baef-bfeb83701208",
      "metadata": {
        "trusted": true
      },
      "outputs": [
        {
          "name": "stdout",
          "output_type": "stream",
          "text": [
            "La media de mensajes para usuarios \"Surf\" es: 40.110\n",
            "La varianza de mensajes para usuarios \"Surf\" es: 1090.451\n",
            "\n",
            "La media de mensajes para usuarios \"Ultimate\" es: 46.296\n",
            "La varianza de mensajes para usuarios \"Ultimate\" es: 1083.325\n"
          ]
        }
      ],
      "source": [
        "# Calculamos la media y varianza de los mensajes enviados al mes \n",
        "\n",
        "\n",
        "mean_surf_sms_per_month = surf_sms_per_month['sms_used'].mean()         # Obtenemos el promedio de mensajes de usuarios 'Surf'\n",
        "var_surf_sms_per_month = np.var(surf_sms_per_month['sms_used'])         # Obtenemos la varianza de los datos de usuarios 'Surf'\n",
        "\n",
        "mean_ultimate_sms_per_month = ultimate_sms_per_month['sms_used'].mean() # Obtenemos el promedio de mensajes de usuarios 'Ultimate'\n",
        "var_ultimate_sms_per_month = np.var(ultimate_sms_per_month['sms_used']) # Obtenemos la varianza de los datos de usuarios 'Ultimate'\n",
        "\n",
        "print(f'La media de mensajes para usuarios \"Surf\" es: {mean_surf_sms_per_month:.3f}')\n",
        "print(f'La varianza de mensajes para usuarios \"Surf\" es: {var_surf_sms_per_month:.3f}')\n",
        "print()\n",
        "print(f'La media de mensajes para usuarios \"Ultimate\" es: {mean_ultimate_sms_per_month:.3f}')\n",
        "print(f'La varianza de mensajes para usuarios \"Ultimate\" es: {var_ultimate_sms_per_month:.3f}')"
      ]
    },
    {
      "cell_type": "code",
      "execution_count": 50,
      "id": "2e72ab00-8b20-40f4-bac5-5c77d08beb14",
      "metadata": {
        "trusted": true
      },
      "outputs": [
        {
          "data": {
            "text/plain": [
              "Text(0, 0.5, 'Mensajes')"
            ]
          },
          "execution_count": 50,
          "metadata": {},
          "output_type": "execute_result"
        },
        {
          "data": {
            "image/png": "[encoded data removed]",
            "text/plain": [
              "<Figure size 640x480 with 1 Axes>"
            ]
          },
          "metadata": {},
          "output_type": "display_data"
        }
      ],
      "source": [
        "# Traza un diagrama de caja para visualizar la distribución mensual de mensajes\n",
        "\n",
        "sns.boxplot(surf_sms_per_month['sms_used'])\n",
        "plt.title('Distribución de mensajes de usuarios Surf')\n",
        "plt.ylabel('Mensajes')"
      ]
    },
    {
      "cell_type": "code",
      "execution_count": 51,
      "id": "fef32447-394b-4fff-9f4d-eb4eb6831709",
      "metadata": {
        "trusted": true
      },
      "outputs": [
        {
          "data": {
            "text/plain": [
              "Text(0, 0.5, 'Mensajes')"
            ]
          },
          "execution_count": 51,
          "metadata": {},
          "output_type": "execute_result"
        },
        {
          "data": {
            "image/png": "[encoded data removed]",
            "text/plain": [
              "<Figure size 640x480 with 1 Axes>"
            ]
          },
          "metadata": {},
          "output_type": "display_data"
        }
      ],
      "source": [
        "sns.boxplot(ultimate_sms_per_month['sms_used'])\n",
        "plt.title('Distribución de mensajes de usuarios Ultimate')\n",
        "plt.ylabel('Mensajes')"
      ]
    },
    {
      "cell_type": "markdown",
      "id": "055dad07-13f6-40db-97eb-f2e0ecd6731a",
      "metadata": {},
      "source": [
        "[Elabora las conclusiones sobre el comportamiento de los usuarios con respecto a los mensajes. ¿Su comportamiento varía en función del plan?]\n",
        "\n",
        "Ambas distribuciones tienen medias similares (Surf = 40.11 sms, Ultimate = 46.29 sms) y varianzas muy altas (Surf = 1090.45, Ultimate = 1083.32). 'Surf' tiene muchos más valores atípicos que 'Ultimate' picos y sus valores máximos están por encima de los 100 mensajes.\n",
        "\n",
        "A falta de probar la hipótesis para corroborar si hay diferencia entre los planes, se puede inferir que el comportamiento podría ser semejante comparando ambos planes."
      ]
    },
    {
      "cell_type": "markdown",
      "id": "07cb6ac5-de61-4444-b061-730e93b36d63",
      "metadata": {},
      "source": [
        "### Internet"
      ]
    },
    {
      "cell_type": "code",
      "execution_count": 52,
      "id": "b570bad1-0fc4-4d17-9c02-f9907afe8023",
      "metadata": {
        "trusted": true
      },
      "outputs": [
        {
          "name": "stdout",
          "output_type": "stream",
          "text": [
            "      month      plan   mb_used\n",
            "0        12  ultimate   1901.47\n",
            "1         8      surf   6919.15\n",
            "2         9      surf  13314.82\n",
            "3        10      surf  22330.49\n",
            "4        11      surf  18504.30\n",
            "...     ...       ...       ...\n",
            "2288     12      surf  23137.69\n",
            "2289      9      surf  12984.76\n",
            "2290     10      surf  19492.43\n",
            "2291     11      surf  16813.83\n",
            "2292     12      surf  22059.21\n",
            "\n",
            "[2277 rows x 3 columns]\n"
          ]
        },
        {
          "name": "stderr",
          "output_type": "stream",
          "text": [
            "C:\\Users\\Carlo\\AppData\\Local\\Temp\\ipykernel_25700\\4016685371.py:5: SettingWithCopyWarning: \n",
            "A value is trying to be set on a copy of a slice from a DataFrame\n",
            "\n",
            "See the caveats in the documentation: https://pandas.pydata.org/pandas-docs/stable/user_guide/indexing.html#returning-a-view-versus-a-copy\n",
            "  mb_per_month.dropna(subset = ['mb_used'], inplace = True) # Eliminamos valores nulos ya que se adaptaron a df_merged por incluir 'outer' como parámetro\n"
          ]
        }
      ],
      "source": [
        "# Compara la cantidad de tráfico de Internet consumido por usuarios por plan\n",
        "\n",
        "mb_per_month = df_merged[['month', 'plan', 'mb_used']]     # Obtenemos un df que solo tenga información sobre el plan, mes y megabytes usados de ambos planes\n",
        "\n",
        "mb_per_month.dropna(subset = ['mb_used'], inplace = True) # Eliminamos valores nulos ya que se adaptaron a df_merged por incluir 'outer' como parámetro\n",
        "\n",
        "print(mb_per_month)"
      ]
    },
    {
      "cell_type": "code",
      "execution_count": 53,
      "id": "719272b2-12eb-40dc-9d5c-75cb8de0afd6",
      "metadata": {
        "trusted": true
      },
      "outputs": [
        {
          "data": {
            "image/png": "[encoded data removed]",
            "text/plain": [
              "<Figure size 640x480 with 1 Axes>"
            ]
          },
          "metadata": {},
          "output_type": "display_data"
        }
      ],
      "source": [
        "# Creamos gráfico de barras comparando el tráfico de datos al mes de usuarios entre planes\n",
        "\n",
        "pivot_mb_per_month = mb_per_month.pivot_table(index = 'month',                  # Usamos el mes como índice\n",
        "                                              columns = 'plan',                 # Las columnas serán los planes (surf y ultimate)\n",
        "                                              values = 'mb_used',               # Los valores de la tabla será la suma de mensajes del mes\n",
        "                                              aggfunc = 'mean')                 # Nos interesa el promedio de megabytes que tienden a utilizar los usuarios de cada plan    \n",
        "\n",
        "pivot_mb_per_month.plot(kind = 'bar',                                           # Creamos un gráfico de barras\n",
        "                         title = 'Promedio de tráfico de datos en megabytes por plan y mes', \n",
        "                         ylabel = 'megabytes', \n",
        "                         xlabel = 'mes')\n",
        "\n",
        "plt.legend(['surf','ultimate'])\n",
        "\n",
        "plt.show()"
      ]
    },
    {
      "cell_type": "markdown",
      "id": "cbf69b2f-80cf-406a-a513-e41e599041dd",
      "metadata": {},
      "source": [
        "Al haber más usuarios de 'Surf' que de 'Ultimate' se consideró ideal comparar los promedio en lugar de considerar el tráfico total de megabytes (mb) por plan. Durante los primeros 5 meses, el promedio de mb los usuarios de 'Ultimate'es mayor al de 'Surf' y luego tiende a ser similar en los meses posteriores. Se infiere que esta diferencia se puede dar ya que solo trabajamos con una muestra significativa de usuarios y no con toda la cartera de Megaline. \n",
        "\n",
        "Un dato interesante es la diferencia de los mb incluidos entre planes es el doble, siendo 'Surf' de 15 gigabytes (15360 mb) mensuales y de 'Ultimate' de 30 gigabytes (30720 mb). No obstante, los promedios son similares en los meses posteriores a medio año. Habría que comparar promedios y varianzas para probar nuestra hipótesis"
      ]
    },
    {
      "cell_type": "code",
      "execution_count": 54,
      "id": "4937aecb-db48-44a1-87d3-9538c950d1b6",
      "metadata": {
        "trusted": true
      },
      "outputs": [
        {
          "data": {
            "image/png": "[encoded data removed]",
            "text/plain": [
              "<Figure size 640x480 with 1 Axes>"
            ]
          },
          "metadata": {},
          "output_type": "display_data"
        }
      ],
      "source": [
        "# Compara el número de megabytes mensuales que necesitan los usuarios de cada plan. Traza un histograma.\n",
        "\n",
        "surf_mb_per_month = mb_per_month[mb_per_month['plan'] == 'surf']                     # Creamos variable que guarde solo los valores del plan 'surf'\n",
        "ultimate_mb_per_month = mb_per_month[mb_per_month['plan'] == 'ultimate']             # Creamos variable que guarde solo los valores del plan 'ultimate'\n",
        "\n",
        "surf_mb_per_month['mb_used'].plot(kind = 'hist',                                     # Creamos el histograma\n",
        "                                  bins = 25, \n",
        "                                  title = 'Megabytes mensuales utilizados por plan',\n",
        "                                  xlabel = 'megabytes',\n",
        "                                  ylabel = 'Frecuencia')\n",
        "ultimate_mb_per_month['mb_used'].plot(kind = 'hist',\n",
        "                                            bins = 25, \n",
        "                                            alpha = 0.85)\n",
        "\n",
        "plt.legend(['surf','ultimate'])\n",
        "plt.show()"
      ]
    },
    {
      "cell_type": "markdown",
      "id": "6b254099-f6e6-4576-a994-d22f5cd1bc6b",
      "metadata": {},
      "source": [
        "La frecuencia de 'Surf' es mucho mayor que de 'Ultimate', nuevamente esto se atribuye a la cantidad de usuarios del plan. \n",
        "\n",
        "A pesar de que se podría considerar una función normal por la típica forma de campana, tenemos varios datos posicionados a la derecha después del valor máximo y hay varios contenedores sesgados a la derecha que pudieran ser valores atípicos. "
      ]
    },
    {
      "cell_type": "code",
      "execution_count": 55,
      "id": "e2aa0191-7659-444f-93d8-999551bdcd3c",
      "metadata": {
        "trusted": true
      },
      "outputs": [
        {
          "name": "stdout",
          "output_type": "stream",
          "text": [
            "La media de megabytes para usuarios \"Surf\" es: 16717.702\n",
            "La varianza de megabytes para usuarios \"Surf\" es: 62128323.163\n",
            "\n",
            "La media de megabytes para usuarios \"Ultimate\" es: 17238.642\n",
            "La varianza de megabytes para usuarios \"Ultimate\" es: 61239556.120\n"
          ]
        }
      ],
      "source": [
        "# Calculamos la media y varianza de los megabytes usados \n",
        "\n",
        "mean_surf_mb_per_month = surf_mb_per_month['mb_used'].mean()         # Obtenemos el promedio de megabytes de usuarios 'Surf'\n",
        "var_surf_mb_per_month = np.var(surf_mb_per_month['mb_used'])         # Obtenemos la varianza de los datos de usuarios 'Surf'\n",
        "\n",
        "mean_ultimate_mb_per_month = ultimate_mb_per_month['mb_used'].mean() # Obtenemos el promedio de minutos de usuarios 'Ultimate'\n",
        "var_ultimate_mb_per_month = np.var(ultimate_mb_per_month['mb_used']) # Obtenemos la varianza de los datos de usuarios 'Ultimate'\n",
        "\n",
        "print(f'La media de megabytes para usuarios \"Surf\" es: {mean_surf_mb_per_month:.3f}')\n",
        "print(f'La varianza de megabytes para usuarios \"Surf\" es: {var_surf_mb_per_month:.3f}')\n",
        "print()\n",
        "print(f'La media de megabytes para usuarios \"Ultimate\" es: {mean_ultimate_mb_per_month:.3f}')\n",
        "print(f'La varianza de megabytes para usuarios \"Ultimate\" es: {var_ultimate_mb_per_month:.3f}')"
      ]
    },
    {
      "cell_type": "code",
      "execution_count": 56,
      "id": "9e1b1d8d-36ab-4561-8729-0c9ec81084a3",
      "metadata": {
        "trusted": true
      },
      "outputs": [
        {
          "data": {
            "text/plain": [
              "Text(0, 0.5, 'Megabytes')"
            ]
          },
          "execution_count": 56,
          "metadata": {},
          "output_type": "execute_result"
        },
        {
          "data": {
            "image/png": "[encoded data removed]",
            "text/plain": [
              "<Figure size 640x480 with 1 Axes>"
            ]
          },
          "metadata": {},
          "output_type": "display_data"
        }
      ],
      "source": [
        "# Traza un diagrama de caja para visualizar la distribución mensual de megabytes\n",
        "\n",
        "sns.boxplot(surf_mb_per_month['mb_used'])\n",
        "plt.title('Distribución de megabytes de usuarios Surf')\n",
        "plt.ylabel('Megabytes')"
      ]
    },
    {
      "cell_type": "code",
      "execution_count": 57,
      "id": "90f546e5-7793-495c-b689-292fdd3e8bab",
      "metadata": {
        "trusted": true
      },
      "outputs": [
        {
          "data": {
            "text/plain": [
              "Text(0, 0.5, 'Megabytes')"
            ]
          },
          "execution_count": 57,
          "metadata": {},
          "output_type": "execute_result"
        },
        {
          "data": {
            "image/png": "[encoded data removed]",
            "text/plain": [
              "<Figure size 640x480 with 1 Axes>"
            ]
          },
          "metadata": {},
          "output_type": "display_data"
        }
      ],
      "source": [
        "# Traza un diagrama de caja para visualizar la distribución mensual de mensajes\n",
        "\n",
        "sns.boxplot(ultimate_mb_per_month['mb_used'])\n",
        "plt.title('Distribución de megabytes de usuarios Ultimate')\n",
        "plt.ylabel('Megabytes')"
      ]
    },
    {
      "cell_type": "markdown",
      "id": "3ffccdeb-39dc-4a1a-a00a-3af342b9093a",
      "metadata": {},
      "source": [
        "[Elabora las conclusiones sobre cómo los usuarios tienden a consumir el tráfico de Internet. ¿Su comportamiento varía en función del plan?]\n",
        "\n",
        "Nuevamente, ambas distribuciones tienen medias similares (Surf = 16717.702 mb, Ultimate = 17238.64) y varianzas bastante elevadas (Surf = 62128323.163, Ultimate = 61239556.12). Los valores atípicos de 'Surf' están más alejados del máximo que de 'Ultimate'. La media de 'Surf' sobrepasa el límite establecido en el plan, por lo que podemos ver una tendencia de que los usuarios prefieren pagar un extra con tal de tener más megabytes al mes. \n",
        "\n",
        "A falta de probar la hipótesis para corroborar si hay diferencia entre los planes, se puede inferir que el comportamiento podría ser semejante entre planes. "
      ]
    },
    {
      "cell_type": "markdown",
      "id": "fe4f6308-eb1b-4435-bc51-6acd14457c1a",
      "metadata": {},
      "source": [
        "## Ingreso"
      ]
    },
    {
      "cell_type": "markdown",
      "id": "b7bc141c-4473-4125-9da6-d1b181046902",
      "metadata": {},
      "source": [
        "[Del mismo modo que has estudiado el comportamiento de los usuarios, describe estadísticamente los ingresos de los planes.]"
      ]
    },
    {
      "cell_type": "code",
      "execution_count": 58,
      "id": "04ab0da6-5cc5-4c71-8a9f-0dfa498705ed",
      "metadata": {
        "trusted": true
      },
      "outputs": [
        {
          "name": "stdout",
          "output_type": "stream",
          "text": [
            "      month      plan  monthly_cost\n",
            "0        12  ultimate         70.00\n",
            "1         8      surf         20.00\n",
            "2         9      surf         20.00\n",
            "3        10      surf         90.09\n",
            "4        11      surf         60.00\n",
            "...     ...       ...           ...\n",
            "2288     12      surf        100.00\n",
            "2289      9      surf         20.00\n",
            "2290     10      surf         70.00\n",
            "2291     11      surf         40.00\n",
            "2292     12      surf         90.00\n",
            "\n",
            "[2293 rows x 3 columns]\n"
          ]
        }
      ],
      "source": [
        "# Compara el gasto mensual de los usuarios por plan\n",
        "\n",
        "income_per_month = df_merged[['month', 'plan', 'monthly_cost']]     # Obtenemos un df que solo tenga información sobre el plan, mes y costo mensual de ambos planes\n",
        "\n",
        "print(income_per_month)"
      ]
    },
    {
      "cell_type": "code",
      "execution_count": 59,
      "id": "34e8a75d-8b22-4f2e-b452-e367569cf664",
      "metadata": {
        "trusted": true
      },
      "outputs": [
        {
          "data": {
            "image/png": "[encoded data removed]",
            "text/plain": [
              "<Figure size 640x480 with 1 Axes>"
            ]
          },
          "metadata": {},
          "output_type": "display_data"
        }
      ],
      "source": [
        "# Creamos gráfico de barras comparando el promedio de costo total al mes de usuarios entre planes\n",
        "\n",
        "pivot_income_per_month = income_per_month.pivot_table(index = 'month',                   # Usamos el mes como índice\n",
        "                                                      columns = 'plan',                  # Las columnas serán los planes (surf y ultimate)\n",
        "                                                      values = 'monthly_cost',            # Los valores de la tabla serán los costos mensuales de cada usuario\n",
        "                                                      aggfunc = 'mean')                  # Nos interesa el promedio del costo de los usuarios de cada plan    \n",
        "\n",
        "pivot_income_per_month.plot(kind = 'bar',                                                # Creamos un gráfico de barras\n",
        "                            title = 'Costo promedio mensual por plan', \n",
        "                            ylabel = 'Dólares (USD $)', \n",
        "                            xlabel = 'mes', \n",
        "                            ylim = [0,90])\n",
        "\n",
        "plt.legend(['surf','ultimate'])\n",
        "\n",
        "plt.show()"
      ]
    },
    {
      "cell_type": "markdown",
      "id": "5c6f2206-b045-4b06-82a5-9d956e904dc4",
      "metadata": {},
      "source": [
        "Al igual como en los casos anteriores, se consideró ideal comparar los costos promedio mensuales de cada plan. Observamos que todos los meses, el promedio del plan 'Ultimate' es mayor a 'Surf'. \n",
        "\n",
        "Hay que considerar que el costo de partida entre planes difiere por 50 dólares, por lo que se puede inferir que los usuarios prefieren contrarar 'Surf' a un precio menor y gran parte de ellos no tienen problema pagando extra por un servicio más completo, pero sin llegar a los 70 dólares de 'Ultimate' haciendo que los promedios difieran entre planes. Habría que comparar promedios y varianzas para probar nuestra hipótesis"
      ]
    },
    {
      "cell_type": "code",
      "execution_count": 60,
      "id": "9ac56241-750e-4dd3-b4bb-436ec90a0a2d",
      "metadata": {
        "trusted": true
      },
      "outputs": [
        {
          "data": {
            "image/png": "[encoded data removed]",
            "text/plain": [
              "<Figure size 640x480 with 1 Axes>"
            ]
          },
          "metadata": {},
          "output_type": "display_data"
        }
      ],
      "source": [
        "# Compara el costo mensual que pagan los usuario por el plan. Traza un histograma.\n",
        "\n",
        "surf_income_per_month = income_per_month[income_per_month['plan'] == 'surf']                 # Creamos variable que guarde solo los valores del plan 'surf'\n",
        "ultimate_income_per_month = income_per_month[income_per_month['plan'] == 'ultimate']         # Creamos variable que guarde solo los valores del plan 'ultimate'\n",
        "\n",
        "surf_income_per_month['monthly_cost'].plot(kind = 'hist',                                    # Creamos el histograma\n",
        "                                           bins = 25, \n",
        "                                           title = 'Costo mensual por plan',\n",
        "                                           xlabel = 'Dólares (USD $)',\n",
        "                                           ylabel = 'Frecuencia')\n",
        "ultimate_income_per_month['monthly_cost'].plot(kind = 'hist',\n",
        "                                               bins = 25, \n",
        "                                               alpha = 0.85)\n",
        "\n",
        "plt.legend(['surf','ultimate'])\n",
        "plt.show()"
      ]
    },
    {
      "cell_type": "markdown",
      "id": "b797ef3e-d081-400f-a7f9-b76c0b9993ec",
      "metadata": {},
      "source": [
        "La diferencia de frecuencia entre 'Surf' y 'Ultimate' está relacionada al número de usuarios. El histograma deja ver que el pico de 'Surf' está en los 20 USD mientras que el de 'Ultimate' en 70 USD, siendo ambos los precios base. Por el gráfico, se puede inferir que el plan que más ingresos genera a Megaline es 'Surf'. "
      ]
    },
    {
      "cell_type": "code",
      "execution_count": 61,
      "id": "17e9f47f-e2c8-4311-a304-0d71853b280f",
      "metadata": {
        "trusted": true
      },
      "outputs": [
        {
          "name": "stdout",
          "output_type": "stream",
          "text": [
            "La media del costo para usuarios \"Surf\" es: 60.706\n",
            "La varianza del costo para usuarios \"Surf\" es: 3065.885\n",
            "\n",
            "La media del costo para usuarios \"Ultimate\" es: 72.314\n",
            "La varianza del costo para usuarios \"Ultimate\" es: 129.668\n"
          ]
        }
      ],
      "source": [
        "# Calculamos la media y varianza de los costos totales por plan \n",
        "\n",
        "mean_surf_income_per_month = surf_income_per_month['monthly_cost'].mean()         # Obtenemos el promedio del costo para usuarios 'Surf'\n",
        "var_surf_income_per_month = np.var(surf_income_per_month['monthly_cost'])         # Obtenemos la varianza de los datos de usuarios 'Surf'\n",
        "\n",
        "mean_ultimate_income_per_month = ultimate_income_per_month['monthly_cost'].mean() # Obtenemos el promedio del costo para usuarios 'Ultimate'\n",
        "var_ultimate_income_per_month = np.var(ultimate_income_per_month['monthly_cost']) # Obtenemos la varianza de los datos de usuarios 'Ultimate'\n",
        "\n",
        "print(f'La media del costo para usuarios \"Surf\" es: {mean_surf_income_per_month:.3f}')\n",
        "print(f'La varianza del costo para usuarios \"Surf\" es: {var_surf_income_per_month:.3f}')\n",
        "print()\n",
        "print(f'La media del costo para usuarios \"Ultimate\" es: {mean_ultimate_income_per_month:.3f}')\n",
        "print(f'La varianza del costo para usuarios \"Ultimate\" es: {var_ultimate_income_per_month:.3f}')"
      ]
    },
    {
      "cell_type": "code",
      "execution_count": 62,
      "id": "fb085aec-6cfe-40b1-89e4-0d520ebfedc6",
      "metadata": {
        "trusted": true
      },
      "outputs": [
        {
          "data": {
            "text/plain": [
              "Text(0, 0.5, 'Dólares (USD $)')"
            ]
          },
          "execution_count": 62,
          "metadata": {},
          "output_type": "execute_result"
        },
        {
          "data": {
            "image/png": "[encoded data removed]",
            "text/plain": [
              "<Figure size 640x480 with 1 Axes>"
            ]
          },
          "metadata": {},
          "output_type": "display_data"
        }
      ],
      "source": [
        "# Traza un diagrama de caja para visualizar la distribución del costo del plan Surf\n",
        "\n",
        "sns.boxplot(surf_income_per_month['monthly_cost'])\n",
        "plt.title('Distribución de costo para los usuarios Surf')\n",
        "plt.ylabel('Dólares (USD $)')"
      ]
    },
    {
      "cell_type": "code",
      "execution_count": 63,
      "id": "a11e465b-58a7-4879-a1ce-c2104397f09e",
      "metadata": {
        "trusted": true
      },
      "outputs": [
        {
          "data": {
            "text/plain": [
              "Text(0, 0.5, 'Dólares (USD $)')"
            ]
          },
          "execution_count": 63,
          "metadata": {},
          "output_type": "execute_result"
        },
        {
          "data": {
            "image/png": "[encoded data removed]",
            "text/plain": [
              "<Figure size 640x480 with 1 Axes>"
            ]
          },
          "metadata": {},
          "output_type": "display_data"
        }
      ],
      "source": [
        "# Traza un diagrama de caja para visualizar la distribución del costo del plan Ultimate\n",
        "\n",
        "sns.boxplot(ultimate_income_per_month['monthly_cost'])\n",
        "plt.title('Distribución de costo para los usuarios Ultimate')\n",
        "plt.ylabel('Dólares (USD $)')"
      ]
    },
    {
      "cell_type": "markdown",
      "id": "88ff3d4c-58c2-4e99-bdfd-cc6530dd10c7",
      "metadata": {},
      "source": [
        "[Elabora las conclusiones sobre cómo difiere el ingreso entre los planes.]\n",
        "\n",
        "A pesar de que la media entre ambos planes solo es diferente por 10 dólares, la varianza dice mucho más en este caso. La varianza del costo para usuarios \"Surf\" es 3065.88 dólares, mientras que para usuarios \"Ultimate\" es: 129.668. una varianza más pequeña supone menor desviación estándar generando una menor variación de la media. \n",
        "\n",
        "Lo vemos con el gráfico de cajas de 'Ultimate' donde prácticamente no se logra apreciar la \"caja\", cuartiles, mediana y valores mínimos y máximos, lo que nos podría indicar que todos estos valores deben ser diferentes por muy poco. Esto se puede confirmar con el valor atípico de 80, el cual no difiere mucho de la media; no obstante, aparece cómo un valor fuera del rango estimado de datos. Podemos concluir que los ingresos del plan 'Ultimate' están casi relacionados al costo fijo mensual del plan. \n",
        "\n",
        "Para el gráfico de 'Surf' está mejor definida la \"caja\", cuartiles y límites. Al tener una varianza mucho más grande, nos indica una mayor dispersión de los datos, esta afirmación se sustenta en el límite del eje \"y\" donde los valores pueden llegar hasta los 600 dólares."
      ]
    },
    {
      "cell_type": "markdown",
      "id": "6e6c2fdb-e789-44f1-b57e-460d2d12b60f",
      "metadata": {},
      "source": [
        "## Prueba las hipótesis estadísticas"
      ]
    },
    {
      "cell_type": "markdown",
      "id": "8d92a369-ad03-4174-b66d-5a9a79e6bbde",
      "metadata": {},
      "source": [
        "[Prueba la hipótesis de que son diferentes los ingresos promedio procedentes de los usuarios de los planes de llamada Ultimate y Surf.]"
      ]
    },
    {
      "cell_type": "markdown",
      "id": "ccf018ee-eb28-44f8-9a4e-b1237663f813",
      "metadata": {},
      "source": [
        "[Elabora las hipótesis nula y alternativa, escoge la prueba estadística, determina el valor alfa.]\n",
        "\n",
        "**Hipótesis nula** -> El ingreso promedio de los usuarios de las tarifas Ultimate y Surf es igual. \n",
        "\n",
        "**Hipótesis alternativa** -> El ingreso promedio de los usuarios de las tarifas Ultimate y Surf difiere.\n",
        "\n",
        "*Se plantea una hipótesis de dos colas, ya que esta hipótesis está formulada para evaluar si la media de la muestra es considerablemente mayor o menor que la media de una población. El valor de alfa será de 0.05*"
      ]
    },
    {
      "cell_type": "code",
      "execution_count": 64,
      "id": "e915e87b-8ee2-4efe-8baa-c5342fc0c54b",
      "metadata": {
        "trusted": true
      },
      "outputs": [
        {
          "name": "stdout",
          "output_type": "stream",
          "text": [
            "valor p:  2.0160297778788502e-16\n",
            "Rechazamos la hipótesis nula\n"
          ]
        }
      ],
      "source": [
        "# Prueba las hipótesis\n",
        "\n",
        "data = surf_income_per_month['monthly_cost']\n",
        "\n",
        "interested_value = mean_ultimate_income_per_month \n",
        "\n",
        "alpha = .05 # la significancia estadística crítica (umbral)\n",
        "\n",
        "# realizar una prueba\n",
        "results = st.ttest_1samp(data, interested_value)\n",
        "\n",
        "# imprimir el valor p resultante\n",
        "print('valor p: ', results.pvalue)\n",
        "\n",
        "# comparar el valor p con el umbral\n",
        "if (results.pvalue < alpha):\n",
        "    print(\"Rechazamos la hipótesis nula\")\n",
        "else:\n",
        "    print(\"No podemos rechazar la hipótesis nula\")"
      ]
    },
    {
      "cell_type": "markdown",
      "id": "f6df1860-801d-4c16-aa5c-ace869e11881",
      "metadata": {},
      "source": [
        "Al probar la hipótesis por el método de dos colas, el valor p es menor al de alfa, por lo que concluimos que **se rechaza la hipótesis nula**. "
      ]
    },
    {
      "cell_type": "markdown",
      "id": "1645dfe7-58bf-483f-8953-1891301f2b4c",
      "metadata": {},
      "source": [
        "[Prueba la hipótesis de que el ingreso promedio de los usuarios del área NY-NJ es diferente al de los usuarios de otras regiones.]"
      ]
    },
    {
      "cell_type": "markdown",
      "id": "54035ede-bc21-4b6c-a550-c1293308c40e",
      "metadata": {},
      "source": [
        "[Elabora las hipótesis nula y alternativa, escoge la prueba estadística, determina el valor alfa.]\n",
        "\n",
        "**Hipótesis nula** -> El ingreso promedio de los usuarios del área de Nueva York y Nueva Jersey es igual al de usuarios de otras regiones del país. \n",
        "\n",
        "**Hipótesis alternativa** -> El ingreso promedio de los usuarios del área de Nueva York y Nueva Jersey difiere al de usuarios de otras regiones del país. \n",
        "\n",
        "*Se plantea una hipótesis de dos colas, ya que esta hipótesis está formulada para evaluar si la media de la muestra es considerablemente mayor o menor que la media de una población. El valor de alfa será de 0.05*"
      ]
    },
    {
      "cell_type": "code",
      "execution_count": 65,
      "id": "3f7ac19f-effd-41e3-97d8-b5c420fea57d",
      "metadata": {
        "trusted": true
      },
      "outputs": [
        {
          "name": "stdout",
          "output_type": "stream",
          "text": [
            "      user_id  month  minutes_used  sms_used   mb_used      plan  \\\n",
            "0        1000     12         124.0      11.0   1901.47  ultimate   \n",
            "1        1001      8         182.0      30.0   6919.15      surf   \n",
            "2        1001      9         315.0      44.0  13314.82      surf   \n",
            "3        1001     10         393.0      53.0  22330.49      surf   \n",
            "4        1001     11         426.0      36.0  18504.30      surf   \n",
            "...       ...    ...           ...       ...       ...       ...   \n",
            "2288     1498     12         339.0       NaN  23137.69      surf   \n",
            "2289     1499      9         346.0       NaN  12984.76      surf   \n",
            "2290     1499     10         385.0       NaN  19492.43      surf   \n",
            "2291     1499     11         308.0       NaN  16813.83      surf   \n",
            "2292     1499     12         496.0       NaN  22059.21      surf   \n",
            "\n",
            "      monthly_cost         state  \n",
            "0            70.00        GA MSA  \n",
            "1            20.00        WA MSA  \n",
            "2            20.00        WA MSA  \n",
            "3            90.09        WA MSA  \n",
            "4            60.00        WA MSA  \n",
            "...            ...           ...  \n",
            "2288        100.00  NY-NJ-PA MSA  \n",
            "2289         20.00        FL MSA  \n",
            "2290         70.00        FL MSA  \n",
            "2291         40.00        FL MSA  \n",
            "2292         90.00        FL MSA  \n",
            "\n",
            "[2293 rows x 8 columns]\n"
          ]
        }
      ],
      "source": [
        "# Prueba las hipótesis\n",
        "\n",
        "users_state = df_users[['state', 'user_id']]             # Obtenemos las columnas de estado y user_id de nuestro dataframe df_users\n",
        "\n",
        "df_merged = df_merged.merge(users_state, on = 'user_id') # lo anexamos a nuestro dataframe existente utilizando merge\n",
        "\n",
        "print(df_merged)\n",
        "#print(users_state)"
      ]
    },
    {
      "cell_type": "code",
      "execution_count": 66,
      "id": "3c166e00-5dab-4069-9742-10831cc18ec6",
      "metadata": {
        "trusted": true
      },
      "outputs": [],
      "source": [
        "# Separamos los usuarios de NY-NJ-PA del resto\n",
        "\n",
        "ny_nj_pa_users = df_merged[df_merged['state'] == 'NY-NJ-PA MSA']  # Filtra los estados que coinciden con 'NY-NJ-PA MSA'\n",
        "rest_users = df_merged[df_merged['state'] != 'NY-NJ-PA MSA']      # Filtra los estados que no son 'NY-NJ-PA MSA'"
      ]
    },
    {
      "cell_type": "code",
      "execution_count": 67,
      "id": "315d730c-da66-4c76-8610-60a403569bb2",
      "metadata": {
        "trusted": true
      },
      "outputs": [
        {
          "name": "stdout",
          "output_type": "stream",
          "text": [
            "valor p:  0.018573531142999183\n",
            "Rechazamos la hipótesis nula\n"
          ]
        }
      ],
      "source": [
        "# Prueba las hipótesis\n",
        "\n",
        "ny_nj_pa_income = ny_nj_pa_users['monthly_cost']\n",
        "\n",
        "interested_value = rest_users['monthly_cost'].mean() \n",
        "\n",
        "alpha = .05 # la significancia estadística crítica (umbral)\n",
        "\n",
        "# realizar una prueba\n",
        "results = st.ttest_1samp(ny_nj_pa_income, interested_value)\n",
        "\n",
        "# imprimir el valor p resultante\n",
        "print('valor p: ', results.pvalue)\n",
        "\n",
        "# comparar el valor p con el umbral\n",
        "if (results.pvalue < alpha):\n",
        "    print(\"Rechazamos la hipótesis nula\")\n",
        "else:\n",
        "    print(\"No podemos rechazar la hipótesis nula\")"
      ]
    },
    {
      "cell_type": "markdown",
      "id": "3c6e484b-164f-4938-abb5-f312fb07d652",
      "metadata": {},
      "source": [
        "Al probar la hipótesis por el método de dos colas, el valor p es menor al de alfa, por lo que concluimos que **se rechaza la hipótesis nula**. "
      ]
    },
    {
      "cell_type": "markdown",
      "id": "6c3b223b-185c-4115-8894-a2d994074a43",
      "metadata": {},
      "source": [
        "## Conclusión general\n"
      ]
    },
    {
      "cell_type": "markdown",
      "id": "631745fd-1ac6-421b-b5e3-75f9fb126119",
      "metadata": {},
      "source": [
        "[En esta sección final, enumera tus conclusiones importantes. Asegúrate de que estas abarquen todas las decisiones (suposiciones) importantes que adoptaste y que determinaron la forma elegida para procesar y analizar los datos.]\n",
        "\n",
        "\n",
        "Para este proyecto se limpiaron los datos transformando las fechas a formato 'datetime', buscando valores nulos y duplicados y creando una columna que mostrara el mes en el que el usuario utilizó los servicios (llamadas, sms o megabytes). \n",
        "\n",
        "Una vez limpios, se juntaron todos los datos en un solo dataframe llamado **df_merge** que nos sirvió para trabajar la mayor parte del proeycto. En este dataframe incluimos los detalles de user_id, el mes de facturación, llamadas, sms, megabytes utilizados, el plan del usuario, costo mensual y el estado (región) del usuario. Al hacer uso de .merge() se utilizaron los párametros *outer* y *left* para asegurarnos que los datos se incluyeron correctamente. \n",
        "\n",
        "Del dataframe df_merged, se crearon otros dataframes que nos sirvieron para conocer la media y varianza por llamadas, mensajes, internet y costos mensuales. Con estos nuevos dataframes fuimos capaces de crear gráficas que describieron el comportamiento de las medias y varianzas entre planes. \n",
        "\n",
        "Finalmente, probamos nuestra hipótesis inicial del proyecto que planteaba que *El ingreso promedio de los usuarios de las tarifas Ultimate y Surf es igual.*. Utilizamos un método de **hipótesis de dos colas** ya que pretendiamos evaluar si la media de la muestra era considerablemente mayor o menor que la media de una población. Se utilizó un valor alfa de 0.05 ya que es una medida común de significación estadística. Al terminar, concluimos que el *valor p* era menor al de significación estadística; por lo tanto, tenemos elementos para **rechazar** la hipótesis nula.\n",
        "\n",
        "Se realizó un ejercicio adicional donde se planteó que *el ingreso promedio de los usuarios del área de Nueva York y Nueva Jersey es igual al de usuarios de otras regiones del país.*. Creando nuevos dataframes derivados de *df_merged* y siguiendo los mismos pasos del procedimiento anterior, concluimos que el *valor p* era menor al de la significación; por lo que tenemos elementos para **rechazar** la hipótesis nula."
      ]
    }
  ],
  "metadata": {
    "kernelspec": {
      "display_name": "base",
      "language": "python",
      "name": "python3"
    },
    "language_info": {
      "codemirror_mode": {
        "name": "ipython",
        "version": 3
      },
      "file_extension": ".py",
      "mimetype": "text/x-python",
      "name": "python",
      "nbconvert_exporter": "python",
      "pygments_lexer": "ipython3",
      "version": "3.13.5"
    }
  },
  "nbformat": 4,
  "nbformat_minor": 5
}
